{
  "cells": [
    {
      "cell_type": "markdown",
      "metadata": {
        "id": "NMYNyVQ09UJV"
      },
      "source": [
        "# Terry Stops\n",
        "## Overview\n",
        "There has been tension between law enforcement and the public due to the `reasonable suspicion` notion. Through this data, I'll analyze the data to predict whether an arrest was made after a `Terry Stop`.\n",
        "\n",
        "## Objective\n",
        "Build a model that will predict, given the data, whether an arrest was made after a Terry stop.\n",
        "\n",
        "## Methodology\n",
        "1. `Data Exploration` : Examine the data structure and content, identify relevant variables and understand their meaning and distribution.\n",
        "\n",
        "2. `Analysis` : Generate descriptive statistics and visualizations to gain insight into the patterns of Terry stops.\n",
        "\n",
        "3. `Predictive Modeling` : Create models that will predict whether an arrest was made after a Terry stop.\n",
        " "
      ]
    },
    {
      "cell_type": "markdown",
      "metadata": {
        "id": "39FlG23ODQ2u"
      },
      "source": [
        "## Data Understanding\n",
        "The dataset contains various attributes related to the stops, including demographic information, stop location, stop reasoning, and outcomes.\n",
        "his data represents records of police reported stops under Terry v. Ohio, 392 U.S. 1 (1968). Each row represents a unique stop.\n",
        "\n",
        "- Each record contains perceived demographics of the subject, as reported by the officer making the stop and officer demographics as reported to the Seattle Police Department, for employment purposes.\n",
        "### Data description\n",
        "\n",
        "`Subject Age Group`: Subject Age Group (10 year increments) as reported by the officer.\n",
        "\n",
        "`Subject ID`: Key, generated daily, identifying unique subjects in the dataset using a character to character match of first name and last name. \"Null\" values indicate an \"anonymous\" or \"unidentified\" subject. \n",
        "\n",
        "`GO / SC Num`: General Offense or Street Check number, relating the Terry Stop to the parent report. This field may have a one to many relationship in the data.\n",
        "\n",
        "`Terry Stop ID`: Key identifying unique Terry Stop reports.\n",
        "\n",
        "`Stop Resolution`: Resolution of the stop as reported by the officer.\n",
        "\n",
        "`Weapon Type`: Type of weapon, if any, identified during a search or frisk of the subject. Indicates \"None\" if no weapons was found.\n",
        "\n",
        "`Officer ID`: Key identifying unique officers in the dataset.\n",
        "\n",
        "`Officer YOB`: Year of birth, as reported by the officer.\n",
        "\n",
        "`Officer Gender`: Gender of the officer, as reported by the officer.\n",
        "\n",
        "`Officer Race`: Race of the officer, as reported by the officer.\n",
        "\n",
        "`Subject Perceived Race`: Perceived race of the subject, as reported by the officer.\n",
        "\n",
        "`Subject Perceived Gender`: Perceived gender of the subject, as reported by the officer.\n",
        "\n",
        "`Reported Date`: Date the report was filed in the Records Management System (RMS). Not necessarily the date the stop occurred but generally within 1 day.\n",
        "\n",
        "`Reported Time`: Time the stop was reported in the Records Management System (RMS). Not the time the stop occurred but generally within 10 hours.\n",
        "\n",
        "`Initial Call Type`: Initial classification of the call as assigned by 911.\n",
        "\n",
        "`Final Call Type`: Final classification of the call as assigned by the primary officer closing the event.\n",
        "\n",
        "`Call Type`: How the call was received by the communication center.\n",
        "\n",
        "`Officer Squad`: Functional squad assignment (not budget) of the officer as reported by the Data Analytics Platform (DAP).\n",
        "\n",
        "`Arrest Flag`: Indicator of whether a \"physical arrest\" was made, of the subject, during the Terry Stop. Does not necessarily reflect a report of an arrest in the Records Management System (RMS).\n",
        "\n",
        "`Frisk Flag`: Indicator of whether a \"frisk\" was conducted, by the officer, of the subject, during the Terry Stop.\n",
        "\n",
        "`Precinct`: Precinct of the address associated with the underlying Computer Aided Dispatch (CAD) event. Not necessarily where the Terry Stop occurred.\n",
        "\n",
        "`Sector`: Sector of the address associated with the underlying Computer Aided Dispatch (CAD) event. Not necessarily where the Terry Stop occurred.\n",
        "\n",
        "`Beat`: Beat of the address associated with the underlying Computer Aided Dispatch (CAD) event. Not necessarily where the Terry Stop occurred.\n"
      ]
    },
    {
      "cell_type": "code",
      "execution_count": 1,
      "metadata": {
        "id": "-xfNDQfbzhMy"
      },
      "outputs": [],
      "source": [
        "from drive.MyDrive.project_3.Terry_Stops.imports.functions import *\n",
        "%matplotlib inline"
      ]
    },
    {
      "cell_type": "code",
      "execution_count": 2,
      "metadata": {
        "colab": {
          "base_uri": "https://localhost:8080/",
          "height": 612
        },
        "id": "_rUSUM7O6h9q",
        "outputId": "b26738aa-4bfc-4e13-bcf4-8536251b8513"
      },
      "outputs": [
        {
          "output_type": "execute_result",
          "data": {
            "text/plain": [
              "  Subject Age Group   Subject ID     GO / SC Num  Terry Stop ID  \\\n",
              "0           36 - 45   7726342469  20200000112069    12803715000   \n",
              "1           46 - 55  17544297314  20210000007572    19456101086   \n",
              "2           26 - 35           -1  20150000005079          88327   \n",
              "3                 -  31307974123  20220000015393    31308022368   \n",
              "4           26 - 35   7727242683  20190000195849     8258954520   \n",
              "\n",
              "  Stop Resolution Weapon Type Officer ID  Officer YOB Officer Gender  \\\n",
              "0   Field Contact           -       6953         1968              M   \n",
              "1   Field Contact           -       6678         1970              M   \n",
              "2   Field Contact        None       6382         1958              M   \n",
              "3   Field Contact           -       6799         1976              M   \n",
              "4   Field Contact           -       6953         1968              M   \n",
              "\n",
              "                    Officer Race  ...     Reported Time  \\\n",
              "0                          White  ...  19:28:18.0000000   \n",
              "1                          White  ...  06:01:35.0000000   \n",
              "2  Nat Hawaiian/Oth Pac Islander  ...  16:14:00.0000000   \n",
              "3             Hispanic or Latino  ...  13:34:08.0000000   \n",
              "4                          White  ...  16:06:48.0000000   \n",
              "\n",
              "                            Initial Call Type  \\\n",
              "0            DISTURBANCE, MISCELLANEOUS/OTHER   \n",
              "1      SUSPICIOUS PERSON, VEHICLE OR INCIDENT   \n",
              "2                                           -   \n",
              "3  SUSPICIOUS STOP - OFFICER INITIATED ONVIEW   \n",
              "4      SUSPICIOUS PERSON, VEHICLE OR INCIDENT   \n",
              "\n",
              "                            Final Call Type Call Type  \\\n",
              "0                     --DISTURBANCE - OTHER       911   \n",
              "1  --SUSPICIOUS CIRCUM. - SUSPICIOUS PERSON       911   \n",
              "2                                         -         -   \n",
              "3  --SUSPICIOUS CIRCUM. - SUSPICIOUS PERSON    ONVIEW   \n",
              "4  --SUSPICIOUS CIRCUM. - SUSPICIOUS PERSON    ONVIEW   \n",
              "\n",
              "                        Officer Squad Arrest Flag Frisk Flag Precinct Sector  \\\n",
              "0                                 NaN           N          N    North      N   \n",
              "1                                 NaN           N          N    North      U   \n",
              "2  NORTH PCT 2ND W - JOHN - PLATOON 1           N          N        -      -   \n",
              "3                                 NaN           N          N     West      M   \n",
              "4                                 NaN           N          N    North      N   \n",
              "\n",
              "  Beat  \n",
              "0   N2  \n",
              "1   U2  \n",
              "2    -  \n",
              "3   M3  \n",
              "4   N3  \n",
              "\n",
              "[5 rows x 23 columns]"
            ],
            "text/html": [
              "\n",
              "  <div id=\"df-a7b755b6-b562-4e02-a285-64c8156ff2c2\">\n",
              "    <div class=\"colab-df-container\">\n",
              "      <div>\n",
              "<style scoped>\n",
              "    .dataframe tbody tr th:only-of-type {\n",
              "        vertical-align: middle;\n",
              "    }\n",
              "\n",
              "    .dataframe tbody tr th {\n",
              "        vertical-align: top;\n",
              "    }\n",
              "\n",
              "    .dataframe thead th {\n",
              "        text-align: right;\n",
              "    }\n",
              "</style>\n",
              "<table border=\"1\" class=\"dataframe\">\n",
              "  <thead>\n",
              "    <tr style=\"text-align: right;\">\n",
              "      <th></th>\n",
              "      <th>Subject Age Group</th>\n",
              "      <th>Subject ID</th>\n",
              "      <th>GO / SC Num</th>\n",
              "      <th>Terry Stop ID</th>\n",
              "      <th>Stop Resolution</th>\n",
              "      <th>Weapon Type</th>\n",
              "      <th>Officer ID</th>\n",
              "      <th>Officer YOB</th>\n",
              "      <th>Officer Gender</th>\n",
              "      <th>Officer Race</th>\n",
              "      <th>...</th>\n",
              "      <th>Reported Time</th>\n",
              "      <th>Initial Call Type</th>\n",
              "      <th>Final Call Type</th>\n",
              "      <th>Call Type</th>\n",
              "      <th>Officer Squad</th>\n",
              "      <th>Arrest Flag</th>\n",
              "      <th>Frisk Flag</th>\n",
              "      <th>Precinct</th>\n",
              "      <th>Sector</th>\n",
              "      <th>Beat</th>\n",
              "    </tr>\n",
              "  </thead>\n",
              "  <tbody>\n",
              "    <tr>\n",
              "      <th>0</th>\n",
              "      <td>36 - 45</td>\n",
              "      <td>7726342469</td>\n",
              "      <td>20200000112069</td>\n",
              "      <td>12803715000</td>\n",
              "      <td>Field Contact</td>\n",
              "      <td>-</td>\n",
              "      <td>6953</td>\n",
              "      <td>1968</td>\n",
              "      <td>M</td>\n",
              "      <td>White</td>\n",
              "      <td>...</td>\n",
              "      <td>19:28:18.0000000</td>\n",
              "      <td>DISTURBANCE, MISCELLANEOUS/OTHER</td>\n",
              "      <td>--DISTURBANCE - OTHER</td>\n",
              "      <td>911</td>\n",
              "      <td>NaN</td>\n",
              "      <td>N</td>\n",
              "      <td>N</td>\n",
              "      <td>North</td>\n",
              "      <td>N</td>\n",
              "      <td>N2</td>\n",
              "    </tr>\n",
              "    <tr>\n",
              "      <th>1</th>\n",
              "      <td>46 - 55</td>\n",
              "      <td>17544297314</td>\n",
              "      <td>20210000007572</td>\n",
              "      <td>19456101086</td>\n",
              "      <td>Field Contact</td>\n",
              "      <td>-</td>\n",
              "      <td>6678</td>\n",
              "      <td>1970</td>\n",
              "      <td>M</td>\n",
              "      <td>White</td>\n",
              "      <td>...</td>\n",
              "      <td>06:01:35.0000000</td>\n",
              "      <td>SUSPICIOUS PERSON, VEHICLE OR INCIDENT</td>\n",
              "      <td>--SUSPICIOUS CIRCUM. - SUSPICIOUS PERSON</td>\n",
              "      <td>911</td>\n",
              "      <td>NaN</td>\n",
              "      <td>N</td>\n",
              "      <td>N</td>\n",
              "      <td>North</td>\n",
              "      <td>U</td>\n",
              "      <td>U2</td>\n",
              "    </tr>\n",
              "    <tr>\n",
              "      <th>2</th>\n",
              "      <td>26 - 35</td>\n",
              "      <td>-1</td>\n",
              "      <td>20150000005079</td>\n",
              "      <td>88327</td>\n",
              "      <td>Field Contact</td>\n",
              "      <td>None</td>\n",
              "      <td>6382</td>\n",
              "      <td>1958</td>\n",
              "      <td>M</td>\n",
              "      <td>Nat Hawaiian/Oth Pac Islander</td>\n",
              "      <td>...</td>\n",
              "      <td>16:14:00.0000000</td>\n",
              "      <td>-</td>\n",
              "      <td>-</td>\n",
              "      <td>-</td>\n",
              "      <td>NORTH PCT 2ND W - JOHN - PLATOON 1</td>\n",
              "      <td>N</td>\n",
              "      <td>N</td>\n",
              "      <td>-</td>\n",
              "      <td>-</td>\n",
              "      <td>-</td>\n",
              "    </tr>\n",
              "    <tr>\n",
              "      <th>3</th>\n",
              "      <td>-</td>\n",
              "      <td>31307974123</td>\n",
              "      <td>20220000015393</td>\n",
              "      <td>31308022368</td>\n",
              "      <td>Field Contact</td>\n",
              "      <td>-</td>\n",
              "      <td>6799</td>\n",
              "      <td>1976</td>\n",
              "      <td>M</td>\n",
              "      <td>Hispanic or Latino</td>\n",
              "      <td>...</td>\n",
              "      <td>13:34:08.0000000</td>\n",
              "      <td>SUSPICIOUS STOP - OFFICER INITIATED ONVIEW</td>\n",
              "      <td>--SUSPICIOUS CIRCUM. - SUSPICIOUS PERSON</td>\n",
              "      <td>ONVIEW</td>\n",
              "      <td>NaN</td>\n",
              "      <td>N</td>\n",
              "      <td>N</td>\n",
              "      <td>West</td>\n",
              "      <td>M</td>\n",
              "      <td>M3</td>\n",
              "    </tr>\n",
              "    <tr>\n",
              "      <th>4</th>\n",
              "      <td>26 - 35</td>\n",
              "      <td>7727242683</td>\n",
              "      <td>20190000195849</td>\n",
              "      <td>8258954520</td>\n",
              "      <td>Field Contact</td>\n",
              "      <td>-</td>\n",
              "      <td>6953</td>\n",
              "      <td>1968</td>\n",
              "      <td>M</td>\n",
              "      <td>White</td>\n",
              "      <td>...</td>\n",
              "      <td>16:06:48.0000000</td>\n",
              "      <td>SUSPICIOUS PERSON, VEHICLE OR INCIDENT</td>\n",
              "      <td>--SUSPICIOUS CIRCUM. - SUSPICIOUS PERSON</td>\n",
              "      <td>ONVIEW</td>\n",
              "      <td>NaN</td>\n",
              "      <td>N</td>\n",
              "      <td>N</td>\n",
              "      <td>North</td>\n",
              "      <td>N</td>\n",
              "      <td>N3</td>\n",
              "    </tr>\n",
              "  </tbody>\n",
              "</table>\n",
              "<p>5 rows × 23 columns</p>\n",
              "</div>\n",
              "      <button class=\"colab-df-convert\" onclick=\"convertToInteractive('df-a7b755b6-b562-4e02-a285-64c8156ff2c2')\"\n",
              "              title=\"Convert this dataframe to an interactive table.\"\n",
              "              style=\"display:none;\">\n",
              "        \n",
              "  <svg xmlns=\"http://www.w3.org/2000/svg\" height=\"24px\"viewBox=\"0 0 24 24\"\n",
              "       width=\"24px\">\n",
              "    <path d=\"M0 0h24v24H0V0z\" fill=\"none\"/>\n",
              "    <path d=\"M18.56 5.44l.94 2.06.94-2.06 2.06-.94-2.06-.94-.94-2.06-.94 2.06-2.06.94zm-11 1L8.5 8.5l.94-2.06 2.06-.94-2.06-.94L8.5 2.5l-.94 2.06-2.06.94zm10 10l.94 2.06.94-2.06 2.06-.94-2.06-.94-.94-2.06-.94 2.06-2.06.94z\"/><path d=\"M17.41 7.96l-1.37-1.37c-.4-.4-.92-.59-1.43-.59-.52 0-1.04.2-1.43.59L10.3 9.45l-7.72 7.72c-.78.78-.78 2.05 0 2.83L4 21.41c.39.39.9.59 1.41.59.51 0 1.02-.2 1.41-.59l7.78-7.78 2.81-2.81c.8-.78.8-2.07 0-2.86zM5.41 20L4 18.59l7.72-7.72 1.47 1.35L5.41 20z\"/>\n",
              "  </svg>\n",
              "      </button>\n",
              "      \n",
              "  <style>\n",
              "    .colab-df-container {\n",
              "      display:flex;\n",
              "      flex-wrap:wrap;\n",
              "      gap: 12px;\n",
              "    }\n",
              "\n",
              "    .colab-df-convert {\n",
              "      background-color: #E8F0FE;\n",
              "      border: none;\n",
              "      border-radius: 50%;\n",
              "      cursor: pointer;\n",
              "      display: none;\n",
              "      fill: #1967D2;\n",
              "      height: 32px;\n",
              "      padding: 0 0 0 0;\n",
              "      width: 32px;\n",
              "    }\n",
              "\n",
              "    .colab-df-convert:hover {\n",
              "      background-color: #E2EBFA;\n",
              "      box-shadow: 0px 1px 2px rgba(60, 64, 67, 0.3), 0px 1px 3px 1px rgba(60, 64, 67, 0.15);\n",
              "      fill: #174EA6;\n",
              "    }\n",
              "\n",
              "    [theme=dark] .colab-df-convert {\n",
              "      background-color: #3B4455;\n",
              "      fill: #D2E3FC;\n",
              "    }\n",
              "\n",
              "    [theme=dark] .colab-df-convert:hover {\n",
              "      background-color: #434B5C;\n",
              "      box-shadow: 0px 1px 3px 1px rgba(0, 0, 0, 0.15);\n",
              "      filter: drop-shadow(0px 1px 2px rgba(0, 0, 0, 0.3));\n",
              "      fill: #FFFFFF;\n",
              "    }\n",
              "  </style>\n",
              "\n",
              "      <script>\n",
              "        const buttonEl =\n",
              "          document.querySelector('#df-a7b755b6-b562-4e02-a285-64c8156ff2c2 button.colab-df-convert');\n",
              "        buttonEl.style.display =\n",
              "          google.colab.kernel.accessAllowed ? 'block' : 'none';\n",
              "\n",
              "        async function convertToInteractive(key) {\n",
              "          const element = document.querySelector('#df-a7b755b6-b562-4e02-a285-64c8156ff2c2');\n",
              "          const dataTable =\n",
              "            await google.colab.kernel.invokeFunction('convertToInteractive',\n",
              "                                                     [key], {});\n",
              "          if (!dataTable) return;\n",
              "\n",
              "          const docLinkHtml = 'Like what you see? Visit the ' +\n",
              "            '<a target=\"_blank\" href=https://colab.research.google.com/notebooks/data_table.ipynb>data table notebook</a>'\n",
              "            + ' to learn more about interactive tables.';\n",
              "          element.innerHTML = '';\n",
              "          dataTable['output_type'] = 'display_data';\n",
              "          await google.colab.output.renderOutput(dataTable, element);\n",
              "          const docLink = document.createElement('div');\n",
              "          docLink.innerHTML = docLinkHtml;\n",
              "          element.appendChild(docLink);\n",
              "        }\n",
              "      </script>\n",
              "    </div>\n",
              "  </div>\n",
              "  "
            ]
          },
          "metadata": {},
          "execution_count": 2
        }
      ],
      "source": [
        "# creating a dataframe\n",
        "df = pd.read_csv('drive/MyDrive/project_3/Terry_Stops/Terry_Stops.csv')\n",
        "df.head()"
      ]
    },
    {
      "cell_type": "code",
      "execution_count": 3,
      "metadata": {
        "colab": {
          "base_uri": "https://localhost:8080/",
          "height": 771
        },
        "id": "tUQcfWRa86U9",
        "outputId": "a9ef19e6-8682-4c33-ede0-6aaf2b0cefea"
      },
      "outputs": [
        {
          "output_type": "execute_result",
          "data": {
            "text/plain": [
              "                      Column  Missing Percentage Missing Values   Length  \\\n",
              "17             Officer Squad                38.8         930838  2399030   \n",
              "0          Subject Age Group                 0.0              0  2399030   \n",
              "12             Reported Date                 0.0              0  2399030   \n",
              "21                    Sector                 0.0              0  2399030   \n",
              "20                  Precinct                 0.0              0  2399030   \n",
              "19                Frisk Flag                 0.0              0  2399030   \n",
              "18               Arrest Flag                 0.0              0  2399030   \n",
              "16                 Call Type                 0.0              0  2399030   \n",
              "15           Final Call Type                 0.0              0  2399030   \n",
              "14         Initial Call Type                 0.0              0  2399030   \n",
              "13             Reported Time                 0.0              0  2399030   \n",
              "11  Subject Perceived Gender                 0.0              0  2399030   \n",
              "1                 Subject ID                 0.0              0  2399030   \n",
              "10    Subject Perceived Race                 0.0              0  2399030   \n",
              "9               Officer Race                 0.0              0  2399030   \n",
              "8             Officer Gender                 0.0              0  2399030   \n",
              "7                Officer YOB                 0.0              0  2399030   \n",
              "6                 Officer ID                 0.0              0  2399030   \n",
              "5                Weapon Type                 0.0              0  2399030   \n",
              "4            Stop Resolution                 0.0              0  2399030   \n",
              "3              Terry Stop ID                 0.0              0  2399030   \n",
              "2                GO / SC Num                 0.0              0  2399030   \n",
              "22                      Beat                 0.0              0  2399030   \n",
              "\n",
              "   Data type  \n",
              "17    object  \n",
              "0     object  \n",
              "12    object  \n",
              "21    object  \n",
              "20    object  \n",
              "19    object  \n",
              "18    object  \n",
              "16    object  \n",
              "15    object  \n",
              "14    object  \n",
              "13    object  \n",
              "11    object  \n",
              "1      int64  \n",
              "10    object  \n",
              "9     object  \n",
              "8     object  \n",
              "7      int64  \n",
              "6     object  \n",
              "5     object  \n",
              "4     object  \n",
              "3      int64  \n",
              "2      int64  \n",
              "22    object  "
            ],
            "text/html": [
              "\n",
              "  <div id=\"df-03fe3663-2a6b-492a-b5ed-a4616f1ffe65\">\n",
              "    <div class=\"colab-df-container\">\n",
              "      <div>\n",
              "<style scoped>\n",
              "    .dataframe tbody tr th:only-of-type {\n",
              "        vertical-align: middle;\n",
              "    }\n",
              "\n",
              "    .dataframe tbody tr th {\n",
              "        vertical-align: top;\n",
              "    }\n",
              "\n",
              "    .dataframe thead th {\n",
              "        text-align: right;\n",
              "    }\n",
              "</style>\n",
              "<table border=\"1\" class=\"dataframe\">\n",
              "  <thead>\n",
              "    <tr style=\"text-align: right;\">\n",
              "      <th></th>\n",
              "      <th>Column</th>\n",
              "      <th>Missing Percentage</th>\n",
              "      <th>Missing Values</th>\n",
              "      <th>Length</th>\n",
              "      <th>Data type</th>\n",
              "    </tr>\n",
              "  </thead>\n",
              "  <tbody>\n",
              "    <tr>\n",
              "      <th>17</th>\n",
              "      <td>Officer Squad</td>\n",
              "      <td>38.8</td>\n",
              "      <td>930838</td>\n",
              "      <td>2399030</td>\n",
              "      <td>object</td>\n",
              "    </tr>\n",
              "    <tr>\n",
              "      <th>0</th>\n",
              "      <td>Subject Age Group</td>\n",
              "      <td>0.0</td>\n",
              "      <td>0</td>\n",
              "      <td>2399030</td>\n",
              "      <td>object</td>\n",
              "    </tr>\n",
              "    <tr>\n",
              "      <th>12</th>\n",
              "      <td>Reported Date</td>\n",
              "      <td>0.0</td>\n",
              "      <td>0</td>\n",
              "      <td>2399030</td>\n",
              "      <td>object</td>\n",
              "    </tr>\n",
              "    <tr>\n",
              "      <th>21</th>\n",
              "      <td>Sector</td>\n",
              "      <td>0.0</td>\n",
              "      <td>0</td>\n",
              "      <td>2399030</td>\n",
              "      <td>object</td>\n",
              "    </tr>\n",
              "    <tr>\n",
              "      <th>20</th>\n",
              "      <td>Precinct</td>\n",
              "      <td>0.0</td>\n",
              "      <td>0</td>\n",
              "      <td>2399030</td>\n",
              "      <td>object</td>\n",
              "    </tr>\n",
              "    <tr>\n",
              "      <th>19</th>\n",
              "      <td>Frisk Flag</td>\n",
              "      <td>0.0</td>\n",
              "      <td>0</td>\n",
              "      <td>2399030</td>\n",
              "      <td>object</td>\n",
              "    </tr>\n",
              "    <tr>\n",
              "      <th>18</th>\n",
              "      <td>Arrest Flag</td>\n",
              "      <td>0.0</td>\n",
              "      <td>0</td>\n",
              "      <td>2399030</td>\n",
              "      <td>object</td>\n",
              "    </tr>\n",
              "    <tr>\n",
              "      <th>16</th>\n",
              "      <td>Call Type</td>\n",
              "      <td>0.0</td>\n",
              "      <td>0</td>\n",
              "      <td>2399030</td>\n",
              "      <td>object</td>\n",
              "    </tr>\n",
              "    <tr>\n",
              "      <th>15</th>\n",
              "      <td>Final Call Type</td>\n",
              "      <td>0.0</td>\n",
              "      <td>0</td>\n",
              "      <td>2399030</td>\n",
              "      <td>object</td>\n",
              "    </tr>\n",
              "    <tr>\n",
              "      <th>14</th>\n",
              "      <td>Initial Call Type</td>\n",
              "      <td>0.0</td>\n",
              "      <td>0</td>\n",
              "      <td>2399030</td>\n",
              "      <td>object</td>\n",
              "    </tr>\n",
              "    <tr>\n",
              "      <th>13</th>\n",
              "      <td>Reported Time</td>\n",
              "      <td>0.0</td>\n",
              "      <td>0</td>\n",
              "      <td>2399030</td>\n",
              "      <td>object</td>\n",
              "    </tr>\n",
              "    <tr>\n",
              "      <th>11</th>\n",
              "      <td>Subject Perceived Gender</td>\n",
              "      <td>0.0</td>\n",
              "      <td>0</td>\n",
              "      <td>2399030</td>\n",
              "      <td>object</td>\n",
              "    </tr>\n",
              "    <tr>\n",
              "      <th>1</th>\n",
              "      <td>Subject ID</td>\n",
              "      <td>0.0</td>\n",
              "      <td>0</td>\n",
              "      <td>2399030</td>\n",
              "      <td>int64</td>\n",
              "    </tr>\n",
              "    <tr>\n",
              "      <th>10</th>\n",
              "      <td>Subject Perceived Race</td>\n",
              "      <td>0.0</td>\n",
              "      <td>0</td>\n",
              "      <td>2399030</td>\n",
              "      <td>object</td>\n",
              "    </tr>\n",
              "    <tr>\n",
              "      <th>9</th>\n",
              "      <td>Officer Race</td>\n",
              "      <td>0.0</td>\n",
              "      <td>0</td>\n",
              "      <td>2399030</td>\n",
              "      <td>object</td>\n",
              "    </tr>\n",
              "    <tr>\n",
              "      <th>8</th>\n",
              "      <td>Officer Gender</td>\n",
              "      <td>0.0</td>\n",
              "      <td>0</td>\n",
              "      <td>2399030</td>\n",
              "      <td>object</td>\n",
              "    </tr>\n",
              "    <tr>\n",
              "      <th>7</th>\n",
              "      <td>Officer YOB</td>\n",
              "      <td>0.0</td>\n",
              "      <td>0</td>\n",
              "      <td>2399030</td>\n",
              "      <td>int64</td>\n",
              "    </tr>\n",
              "    <tr>\n",
              "      <th>6</th>\n",
              "      <td>Officer ID</td>\n",
              "      <td>0.0</td>\n",
              "      <td>0</td>\n",
              "      <td>2399030</td>\n",
              "      <td>object</td>\n",
              "    </tr>\n",
              "    <tr>\n",
              "      <th>5</th>\n",
              "      <td>Weapon Type</td>\n",
              "      <td>0.0</td>\n",
              "      <td>0</td>\n",
              "      <td>2399030</td>\n",
              "      <td>object</td>\n",
              "    </tr>\n",
              "    <tr>\n",
              "      <th>4</th>\n",
              "      <td>Stop Resolution</td>\n",
              "      <td>0.0</td>\n",
              "      <td>0</td>\n",
              "      <td>2399030</td>\n",
              "      <td>object</td>\n",
              "    </tr>\n",
              "    <tr>\n",
              "      <th>3</th>\n",
              "      <td>Terry Stop ID</td>\n",
              "      <td>0.0</td>\n",
              "      <td>0</td>\n",
              "      <td>2399030</td>\n",
              "      <td>int64</td>\n",
              "    </tr>\n",
              "    <tr>\n",
              "      <th>2</th>\n",
              "      <td>GO / SC Num</td>\n",
              "      <td>0.0</td>\n",
              "      <td>0</td>\n",
              "      <td>2399030</td>\n",
              "      <td>int64</td>\n",
              "    </tr>\n",
              "    <tr>\n",
              "      <th>22</th>\n",
              "      <td>Beat</td>\n",
              "      <td>0.0</td>\n",
              "      <td>0</td>\n",
              "      <td>2399030</td>\n",
              "      <td>object</td>\n",
              "    </tr>\n",
              "  </tbody>\n",
              "</table>\n",
              "</div>\n",
              "      <button class=\"colab-df-convert\" onclick=\"convertToInteractive('df-03fe3663-2a6b-492a-b5ed-a4616f1ffe65')\"\n",
              "              title=\"Convert this dataframe to an interactive table.\"\n",
              "              style=\"display:none;\">\n",
              "        \n",
              "  <svg xmlns=\"http://www.w3.org/2000/svg\" height=\"24px\"viewBox=\"0 0 24 24\"\n",
              "       width=\"24px\">\n",
              "    <path d=\"M0 0h24v24H0V0z\" fill=\"none\"/>\n",
              "    <path d=\"M18.56 5.44l.94 2.06.94-2.06 2.06-.94-2.06-.94-.94-2.06-.94 2.06-2.06.94zm-11 1L8.5 8.5l.94-2.06 2.06-.94-2.06-.94L8.5 2.5l-.94 2.06-2.06.94zm10 10l.94 2.06.94-2.06 2.06-.94-2.06-.94-.94-2.06-.94 2.06-2.06.94z\"/><path d=\"M17.41 7.96l-1.37-1.37c-.4-.4-.92-.59-1.43-.59-.52 0-1.04.2-1.43.59L10.3 9.45l-7.72 7.72c-.78.78-.78 2.05 0 2.83L4 21.41c.39.39.9.59 1.41.59.51 0 1.02-.2 1.41-.59l7.78-7.78 2.81-2.81c.8-.78.8-2.07 0-2.86zM5.41 20L4 18.59l7.72-7.72 1.47 1.35L5.41 20z\"/>\n",
              "  </svg>\n",
              "      </button>\n",
              "      \n",
              "  <style>\n",
              "    .colab-df-container {\n",
              "      display:flex;\n",
              "      flex-wrap:wrap;\n",
              "      gap: 12px;\n",
              "    }\n",
              "\n",
              "    .colab-df-convert {\n",
              "      background-color: #E8F0FE;\n",
              "      border: none;\n",
              "      border-radius: 50%;\n",
              "      cursor: pointer;\n",
              "      display: none;\n",
              "      fill: #1967D2;\n",
              "      height: 32px;\n",
              "      padding: 0 0 0 0;\n",
              "      width: 32px;\n",
              "    }\n",
              "\n",
              "    .colab-df-convert:hover {\n",
              "      background-color: #E2EBFA;\n",
              "      box-shadow: 0px 1px 2px rgba(60, 64, 67, 0.3), 0px 1px 3px 1px rgba(60, 64, 67, 0.15);\n",
              "      fill: #174EA6;\n",
              "    }\n",
              "\n",
              "    [theme=dark] .colab-df-convert {\n",
              "      background-color: #3B4455;\n",
              "      fill: #D2E3FC;\n",
              "    }\n",
              "\n",
              "    [theme=dark] .colab-df-convert:hover {\n",
              "      background-color: #434B5C;\n",
              "      box-shadow: 0px 1px 3px 1px rgba(0, 0, 0, 0.15);\n",
              "      filter: drop-shadow(0px 1px 2px rgba(0, 0, 0, 0.3));\n",
              "      fill: #FFFFFF;\n",
              "    }\n",
              "  </style>\n",
              "\n",
              "      <script>\n",
              "        const buttonEl =\n",
              "          document.querySelector('#df-03fe3663-2a6b-492a-b5ed-a4616f1ffe65 button.colab-df-convert');\n",
              "        buttonEl.style.display =\n",
              "          google.colab.kernel.accessAllowed ? 'block' : 'none';\n",
              "\n",
              "        async function convertToInteractive(key) {\n",
              "          const element = document.querySelector('#df-03fe3663-2a6b-492a-b5ed-a4616f1ffe65');\n",
              "          const dataTable =\n",
              "            await google.colab.kernel.invokeFunction('convertToInteractive',\n",
              "                                                     [key], {});\n",
              "          if (!dataTable) return;\n",
              "\n",
              "          const docLinkHtml = 'Like what you see? Visit the ' +\n",
              "            '<a target=\"_blank\" href=https://colab.research.google.com/notebooks/data_table.ipynb>data table notebook</a>'\n",
              "            + ' to learn more about interactive tables.';\n",
              "          element.innerHTML = '';\n",
              "          dataTable['output_type'] = 'display_data';\n",
              "          await google.colab.output.renderOutput(dataTable, element);\n",
              "          const docLink = document.createElement('div');\n",
              "          docLink.innerHTML = docLinkHtml;\n",
              "          element.appendChild(docLink);\n",
              "        }\n",
              "      </script>\n",
              "    </div>\n",
              "  </div>\n",
              "  "
            ]
          },
          "metadata": {},
          "execution_count": 3
        }
      ],
      "source": [
        "# checking data details\n",
        "info(df)"
      ]
    },
    {
      "cell_type": "markdown",
      "metadata": {
        "id": "VY0W6GaFWpkO"
      },
      "source": [
        "- `Officer Squad` has about 38.8 percent of missing data which translates to 930838 rows. From the total number of rows available and what the data in this squad signifies, I'll drop just the missing rows since the remaining data is sufficient.\n"
      ]
    },
    {
      "cell_type": "code",
      "execution_count": 4,
      "metadata": {
        "id": "8SG-Q2o5YrgV"
      },
      "outputs": [],
      "source": [
        "# dropping null values\n",
        "df.dropna(inplace=True)"
      ]
    },
    {
      "cell_type": "code",
      "execution_count": 5,
      "metadata": {
        "colab": {
          "base_uri": "https://localhost:8080/"
        },
        "id": "UhKdQRe4YDpi",
        "outputId": "748a0610-67f3-47d5-9c5d-55b76b173fb7"
      },
      "outputs": [
        {
          "output_type": "execute_result",
          "data": {
            "text/plain": [
              "-     383904\n",
              "N3     50482\n",
              "E2     45107\n",
              "K3     40807\n",
              "M2     36593\n",
              "M3     33927\n",
              "N2     30358\n",
              "E1     30014\n",
              "R2     28810\n",
              "B1     27606\n",
              "U2     27262\n",
              "M1     26918\n",
              "F2     26574\n",
              "K2     25843\n",
              "B2     25069\n",
              "D1     24725\n",
              "L1     24467\n",
              "L3     23005\n",
              "L2     23005\n",
              "S2     22747\n",
              "D2     22747\n",
              "E3     21414\n",
              "O1     21070\n",
              "S3     20812\n",
              "K1     19135\n",
              "Q3     19135\n",
              "J1     19049\n",
              "B3     18490\n",
              "F3     17888\n",
              "U1     17587\n",
              "G2     17544\n",
              "R1     17458\n",
              "D3     17329\n",
              "W2     16426\n",
              "R3     16297\n",
              "J3     16168\n",
              "G3     16125\n",
              "C3     15394\n",
              "C1     15351\n",
              "O2     14663\n",
              "S1     14190\n",
              "F1     14147\n",
              "O3     14104\n",
              "W1     14018\n",
              "Q2     13416\n",
              "N1     13244\n",
              "J2     12857\n",
              "C2     11739\n",
              "G1     11180\n",
              "U3     11094\n",
              "W3      9804\n",
              "Q1      8729\n",
              "99      2279\n",
              "S         86\n",
              "Name: Beat, dtype: int64"
            ]
          },
          "metadata": {},
          "execution_count": 5
        }
      ],
      "source": [
        "# investigating the Beat column\n",
        "df.Beat.value_counts()"
      ]
    },
    {
      "cell_type": "markdown",
      "metadata": {
        "id": "9knLtC4Da1DQ"
      },
      "source": [
        "It has `-` as the most occuring value, I'll change that to `unknown`"
      ]
    },
    {
      "cell_type": "code",
      "execution_count": 6,
      "metadata": {
        "colab": {
          "base_uri": "https://localhost:8080/"
        },
        "id": "dCGhyOhObW36",
        "outputId": "27efdbc8-3113-413b-8e06-601138cc2908"
      },
      "outputs": [
        {
          "output_type": "execute_result",
          "data": {
            "text/plain": [
              "Unknown    383904\n",
              "N3          50482\n",
              "E2          45107\n",
              "K3          40807\n",
              "M2          36593\n",
              "M3          33927\n",
              "N2          30358\n",
              "E1          30014\n",
              "R2          28810\n",
              "B1          27606\n",
              "U2          27262\n",
              "M1          26918\n",
              "F2          26574\n",
              "K2          25843\n",
              "B2          25069\n",
              "D1          24725\n",
              "L1          24467\n",
              "L3          23005\n",
              "L2          23005\n",
              "S2          22747\n",
              "D2          22747\n",
              "E3          21414\n",
              "O1          21070\n",
              "S3          20812\n",
              "K1          19135\n",
              "Q3          19135\n",
              "J1          19049\n",
              "B3          18490\n",
              "F3          17888\n",
              "U1          17587\n",
              "G2          17544\n",
              "R1          17458\n",
              "D3          17329\n",
              "W2          16426\n",
              "R3          16297\n",
              "J3          16168\n",
              "G3          16125\n",
              "C3          15394\n",
              "C1          15351\n",
              "O2          14663\n",
              "S1          14190\n",
              "F1          14147\n",
              "O3          14104\n",
              "W1          14018\n",
              "Q2          13416\n",
              "N1          13244\n",
              "J2          12857\n",
              "C2          11739\n",
              "G1          11180\n",
              "U3          11094\n",
              "W3           9804\n",
              "Q1           8729\n",
              "99           2279\n",
              "S              86\n",
              "Name: Beat, dtype: int64"
            ]
          },
          "metadata": {},
          "execution_count": 6
        }
      ],
      "source": [
        "# replacing values in column Beat\n",
        "replace(df, 'Beat', '-', 'Unknown')"
      ]
    },
    {
      "cell_type": "markdown",
      "metadata": {
        "id": "29_VNsurcqMK"
      },
      "source": [
        "# Feature Engineering\n",
        "\n",
        "Some of the columns contain data that is not useful as it is. I'll use various techniques to create new features and drop the original columns."
      ]
    },
    {
      "cell_type": "code",
      "execution_count": 7,
      "metadata": {
        "id": "Och62L9BcFP_"
      },
      "outputs": [],
      "source": [
        "#The column for officer year of birth will be dropped and instead will use age\n",
        "# I'll use the reporting date to calculate the age at the time of reporting\n",
        "# Convert strings to datetime objects\n",
        "\n",
        "df['Reported Date'] = pd.to_datetime(df['Reported Date'])\n",
        "df['Officer YOB'] = pd.to_numeric(df['Officer YOB'], errors='coerce')\n",
        "\n",
        "df['age'] = df['Reported Date'].dt.year - df['Officer YOB']\n",
        "\n",
        "\n",
        "\n"
      ]
    },
    {
      "cell_type": "code",
      "execution_count": 8,
      "metadata": {
        "colab": {
          "base_uri": "https://localhost:8080/"
        },
        "id": "RCgKjgM1eyZD",
        "outputId": "840d38d3-d840-48a5-892b-047eeb2bb23b"
      },
      "outputs": [
        {
          "output_type": "stream",
          "name": "stdout",
          "text": [
            "Youngest: 21\n",
            "Oldest: 119\n"
          ]
        }
      ],
      "source": [
        "# investigating age column\n",
        "print(f\"Youngest: {df['age'].min()}\")\n",
        "print(f\"Oldest: {df['age'].max()}\")"
      ]
    },
    {
      "cell_type": "markdown",
      "metadata": {
        "id": "UBsUvXavq4rA"
      },
      "source": [
        "Given that in Seattle the minimum age to enroll at the time of this project is 20.5 years and the retirement age is 65, we will drop any that are below 21 and above 65 by the time of the stop."
      ]
    },
    {
      "cell_type": "code",
      "execution_count": 9,
      "metadata": {
        "id": "5XDsObF5e2B0"
      },
      "outputs": [],
      "source": [
        "# dropping officers who were above 65 or below 21 by the time of the stop\n",
        "df = df[(df['age'] <= 65) & (df['age'] >= 21)]\n"
      ]
    },
    {
      "cell_type": "code",
      "execution_count": 10,
      "metadata": {
        "colab": {
          "base_uri": "https://localhost:8080/"
        },
        "id": "uy9B954Kn94t",
        "outputId": "e7c3fd2a-5de9-4193-b97e-9bbb00b4b100"
      },
      "outputs": [
        {
          "output_type": "stream",
          "name": "stdout",
          "text": [
            "Youngest: 21\n",
            "Oldest: 65\n"
          ]
        }
      ],
      "source": [
        "# investigating age column\n",
        "print(f\"Youngest: {df['age'].min()}\")\n",
        "print(f\"Oldest: {df['age'].max()}\")"
      ]
    },
    {
      "cell_type": "markdown",
      "metadata": {
        "id": "Fq1aDz_hthFA"
      },
      "source": [
        "In the `weapon type` column, there are different types that can be grouped together."
      ]
    },
    {
      "cell_type": "code",
      "execution_count": 11,
      "metadata": {
        "colab": {
          "base_uri": "https://localhost:8080/"
        },
        "id": "fILqh_zdtE2n",
        "outputId": "6a831a8f-ea91-4629-e5ea-2eb8102e76a8"
      },
      "outputs": [
        {
          "output_type": "execute_result",
          "data": {
            "text/plain": [
              "None                               1383611\n",
              "Lethal Cutting Instrument            62952\n",
              "Handgun                               9804\n",
              "Firearm Other                         4257\n",
              "-                                     2623\n",
              "Club, Blackjack, Brass Knuckles       2107\n",
              "Firearm (unk type)                     645\n",
              "Club                                   387\n",
              "Rifle                                  172\n",
              "Shotgun                                129\n",
              "Automatic Handgun                       86\n",
              "Blackjack                               43\n",
              "Brass Knuckles                          43\n",
              "Name: Weapon Type, dtype: int64"
            ]
          },
          "metadata": {},
          "execution_count": 11
        }
      ],
      "source": [
        "df['Weapon Type'].value_counts()"
      ]
    },
    {
      "cell_type": "code",
      "execution_count": 12,
      "metadata": {
        "colab": {
          "base_uri": "https://localhost:8080/"
        },
        "id": "syCHYfZ0tnZw",
        "outputId": "ba16fd51-a360-4f10-c6ec-a34476095e0f"
      },
      "outputs": [
        {
          "output_type": "execute_result",
          "data": {
            "text/plain": [
              "None                         1383611\n",
              "Lethal Cutting Instrument      62952\n",
              "Firearm                        15093\n",
              "Unknown                         2623\n",
              "Striking Object                 2580\n",
              "Name: Weapon Type, dtype: int64"
            ]
          },
          "metadata": {},
          "execution_count": 12
        }
      ],
      "source": [
        "# replacing\n",
        "replace(df, 'Weapon Type', '-', 'Unknown')\n",
        "replace(df, 'Weapon Type', ['Handgun', 'Firearm Other', 'Firearm (unk type)',\n",
        "                            'Other Firearm', 'Rifle', 'Shotgun', 'Automatic Handgun'],'Firearm')\n",
        "replace(df, 'Weapon Type', ['Club, Blackjack, Brass Knuckles', 'Blackjack', 'Brass Knuckles', \n",
        "                            'Club', 'Personal Weapons (hands, feet, etc.)'], 'Striking Object')"
      ]
    },
    {
      "cell_type": "code",
      "execution_count": 13,
      "metadata": {
        "colab": {
          "base_uri": "https://localhost:8080/"
        },
        "id": "T3KhDx8VxsSH",
        "outputId": "4588e39b-920b-49d6-b0d7-2d5ad1c87986"
      },
      "outputs": [
        {
          "output_type": "stream",
          "name": "stdout",
          "text": [
            "Number of columns before dropping: 24\n",
            "Number of columns after dropping: 14\n"
          ]
        }
      ],
      "source": [
        "cols = ['Subject ID', 'GO / SC Num', 'Terry Stop ID', 'Officer YOB', 'Initial Call Type', \n",
        "        'Arrest Flag', 'Reported Date', 'Sector', 'Officer ID', 'Beat']\n",
        "drop(df, cols)"
      ]
    },
    {
      "cell_type": "code",
      "execution_count": 14,
      "metadata": {
        "colab": {
          "base_uri": "https://localhost:8080/",
          "height": 597
        },
        "id": "V_pjn4ErxorC",
        "outputId": "761dc605-6447-4b68-8917-96080942e664"
      },
      "outputs": [
        {
          "output_type": "execute_result",
          "data": {
            "text/plain": [
              "   Subject Age Group Stop Resolution                Weapon Type  \\\n",
              "2            26 - 35   Field Contact                       None   \n",
              "6            26 - 35   Field Contact                       None   \n",
              "7       56 and Above  Offense Report                       None   \n",
              "9            26 - 35  Offense Report                       None   \n",
              "10           18 - 25  Offense Report  Lethal Cutting Instrument   \n",
              "\n",
              "   Officer Gender                   Officer Race Subject Perceived Race  \\\n",
              "2               M  Nat Hawaiian/Oth Pac Islander                  White   \n",
              "6               M                          White                  White   \n",
              "7               M                          White                  White   \n",
              "9               M             Hispanic or Latino                  White   \n",
              "10              M             Hispanic or Latino                  White   \n",
              "\n",
              "   Subject Perceived Gender     Reported Time  \\\n",
              "2                      Male  16:14:00.0000000   \n",
              "6                      Male  16:56:00.0000000   \n",
              "7                      Male  17:38:00.0000000   \n",
              "9                      Male  00:52:00.0000000   \n",
              "10                     Male  02:34:00.0000000   \n",
              "\n",
              "                        Final Call Type Call Type  \\\n",
              "2                                     -         -   \n",
              "6                                     -         -   \n",
              "7   --DV - ASSIST VICTIM BY COURT ORDER       911   \n",
              "9                     --ASSAULTS, OTHER    ONVIEW   \n",
              "10                --DISTURBANCE - OTHER       911   \n",
              "\n",
              "                           Officer Squad Frisk Flag Precinct  age  \n",
              "2     NORTH PCT 2ND W - JOHN - PLATOON 1          N        -   57  \n",
              "6            WEST PCT 2ND W - D/M RELIEF          N        -   33  \n",
              "7   SOUTH PCT 2ND W - ROBERT - PLATOON 2          N    South   27  \n",
              "9        EAST PCT 2ND W - CHARLIE RELIEF          N     East   28  \n",
              "10           EAST PCT 3RD W - E/G RELIEF          Y     East   26  "
            ],
            "text/html": [
              "\n",
              "  <div id=\"df-97bf0539-13fc-4958-bc3f-73bc574095b6\">\n",
              "    <div class=\"colab-df-container\">\n",
              "      <div>\n",
              "<style scoped>\n",
              "    .dataframe tbody tr th:only-of-type {\n",
              "        vertical-align: middle;\n",
              "    }\n",
              "\n",
              "    .dataframe tbody tr th {\n",
              "        vertical-align: top;\n",
              "    }\n",
              "\n",
              "    .dataframe thead th {\n",
              "        text-align: right;\n",
              "    }\n",
              "</style>\n",
              "<table border=\"1\" class=\"dataframe\">\n",
              "  <thead>\n",
              "    <tr style=\"text-align: right;\">\n",
              "      <th></th>\n",
              "      <th>Subject Age Group</th>\n",
              "      <th>Stop Resolution</th>\n",
              "      <th>Weapon Type</th>\n",
              "      <th>Officer Gender</th>\n",
              "      <th>Officer Race</th>\n",
              "      <th>Subject Perceived Race</th>\n",
              "      <th>Subject Perceived Gender</th>\n",
              "      <th>Reported Time</th>\n",
              "      <th>Final Call Type</th>\n",
              "      <th>Call Type</th>\n",
              "      <th>Officer Squad</th>\n",
              "      <th>Frisk Flag</th>\n",
              "      <th>Precinct</th>\n",
              "      <th>age</th>\n",
              "    </tr>\n",
              "  </thead>\n",
              "  <tbody>\n",
              "    <tr>\n",
              "      <th>2</th>\n",
              "      <td>26 - 35</td>\n",
              "      <td>Field Contact</td>\n",
              "      <td>None</td>\n",
              "      <td>M</td>\n",
              "      <td>Nat Hawaiian/Oth Pac Islander</td>\n",
              "      <td>White</td>\n",
              "      <td>Male</td>\n",
              "      <td>16:14:00.0000000</td>\n",
              "      <td>-</td>\n",
              "      <td>-</td>\n",
              "      <td>NORTH PCT 2ND W - JOHN - PLATOON 1</td>\n",
              "      <td>N</td>\n",
              "      <td>-</td>\n",
              "      <td>57</td>\n",
              "    </tr>\n",
              "    <tr>\n",
              "      <th>6</th>\n",
              "      <td>26 - 35</td>\n",
              "      <td>Field Contact</td>\n",
              "      <td>None</td>\n",
              "      <td>M</td>\n",
              "      <td>White</td>\n",
              "      <td>White</td>\n",
              "      <td>Male</td>\n",
              "      <td>16:56:00.0000000</td>\n",
              "      <td>-</td>\n",
              "      <td>-</td>\n",
              "      <td>WEST PCT 2ND W - D/M RELIEF</td>\n",
              "      <td>N</td>\n",
              "      <td>-</td>\n",
              "      <td>33</td>\n",
              "    </tr>\n",
              "    <tr>\n",
              "      <th>7</th>\n",
              "      <td>56 and Above</td>\n",
              "      <td>Offense Report</td>\n",
              "      <td>None</td>\n",
              "      <td>M</td>\n",
              "      <td>White</td>\n",
              "      <td>White</td>\n",
              "      <td>Male</td>\n",
              "      <td>17:38:00.0000000</td>\n",
              "      <td>--DV - ASSIST VICTIM BY COURT ORDER</td>\n",
              "      <td>911</td>\n",
              "      <td>SOUTH PCT 2ND W - ROBERT - PLATOON 2</td>\n",
              "      <td>N</td>\n",
              "      <td>South</td>\n",
              "      <td>27</td>\n",
              "    </tr>\n",
              "    <tr>\n",
              "      <th>9</th>\n",
              "      <td>26 - 35</td>\n",
              "      <td>Offense Report</td>\n",
              "      <td>None</td>\n",
              "      <td>M</td>\n",
              "      <td>Hispanic or Latino</td>\n",
              "      <td>White</td>\n",
              "      <td>Male</td>\n",
              "      <td>00:52:00.0000000</td>\n",
              "      <td>--ASSAULTS, OTHER</td>\n",
              "      <td>ONVIEW</td>\n",
              "      <td>EAST PCT 2ND W - CHARLIE RELIEF</td>\n",
              "      <td>N</td>\n",
              "      <td>East</td>\n",
              "      <td>28</td>\n",
              "    </tr>\n",
              "    <tr>\n",
              "      <th>10</th>\n",
              "      <td>18 - 25</td>\n",
              "      <td>Offense Report</td>\n",
              "      <td>Lethal Cutting Instrument</td>\n",
              "      <td>M</td>\n",
              "      <td>Hispanic or Latino</td>\n",
              "      <td>White</td>\n",
              "      <td>Male</td>\n",
              "      <td>02:34:00.0000000</td>\n",
              "      <td>--DISTURBANCE - OTHER</td>\n",
              "      <td>911</td>\n",
              "      <td>EAST PCT 3RD W - E/G RELIEF</td>\n",
              "      <td>Y</td>\n",
              "      <td>East</td>\n",
              "      <td>26</td>\n",
              "    </tr>\n",
              "  </tbody>\n",
              "</table>\n",
              "</div>\n",
              "      <button class=\"colab-df-convert\" onclick=\"convertToInteractive('df-97bf0539-13fc-4958-bc3f-73bc574095b6')\"\n",
              "              title=\"Convert this dataframe to an interactive table.\"\n",
              "              style=\"display:none;\">\n",
              "        \n",
              "  <svg xmlns=\"http://www.w3.org/2000/svg\" height=\"24px\"viewBox=\"0 0 24 24\"\n",
              "       width=\"24px\">\n",
              "    <path d=\"M0 0h24v24H0V0z\" fill=\"none\"/>\n",
              "    <path d=\"M18.56 5.44l.94 2.06.94-2.06 2.06-.94-2.06-.94-.94-2.06-.94 2.06-2.06.94zm-11 1L8.5 8.5l.94-2.06 2.06-.94-2.06-.94L8.5 2.5l-.94 2.06-2.06.94zm10 10l.94 2.06.94-2.06 2.06-.94-2.06-.94-.94-2.06-.94 2.06-2.06.94z\"/><path d=\"M17.41 7.96l-1.37-1.37c-.4-.4-.92-.59-1.43-.59-.52 0-1.04.2-1.43.59L10.3 9.45l-7.72 7.72c-.78.78-.78 2.05 0 2.83L4 21.41c.39.39.9.59 1.41.59.51 0 1.02-.2 1.41-.59l7.78-7.78 2.81-2.81c.8-.78.8-2.07 0-2.86zM5.41 20L4 18.59l7.72-7.72 1.47 1.35L5.41 20z\"/>\n",
              "  </svg>\n",
              "      </button>\n",
              "      \n",
              "  <style>\n",
              "    .colab-df-container {\n",
              "      display:flex;\n",
              "      flex-wrap:wrap;\n",
              "      gap: 12px;\n",
              "    }\n",
              "\n",
              "    .colab-df-convert {\n",
              "      background-color: #E8F0FE;\n",
              "      border: none;\n",
              "      border-radius: 50%;\n",
              "      cursor: pointer;\n",
              "      display: none;\n",
              "      fill: #1967D2;\n",
              "      height: 32px;\n",
              "      padding: 0 0 0 0;\n",
              "      width: 32px;\n",
              "    }\n",
              "\n",
              "    .colab-df-convert:hover {\n",
              "      background-color: #E2EBFA;\n",
              "      box-shadow: 0px 1px 2px rgba(60, 64, 67, 0.3), 0px 1px 3px 1px rgba(60, 64, 67, 0.15);\n",
              "      fill: #174EA6;\n",
              "    }\n",
              "\n",
              "    [theme=dark] .colab-df-convert {\n",
              "      background-color: #3B4455;\n",
              "      fill: #D2E3FC;\n",
              "    }\n",
              "\n",
              "    [theme=dark] .colab-df-convert:hover {\n",
              "      background-color: #434B5C;\n",
              "      box-shadow: 0px 1px 3px 1px rgba(0, 0, 0, 0.15);\n",
              "      filter: drop-shadow(0px 1px 2px rgba(0, 0, 0, 0.3));\n",
              "      fill: #FFFFFF;\n",
              "    }\n",
              "  </style>\n",
              "\n",
              "      <script>\n",
              "        const buttonEl =\n",
              "          document.querySelector('#df-97bf0539-13fc-4958-bc3f-73bc574095b6 button.colab-df-convert');\n",
              "        buttonEl.style.display =\n",
              "          google.colab.kernel.accessAllowed ? 'block' : 'none';\n",
              "\n",
              "        async function convertToInteractive(key) {\n",
              "          const element = document.querySelector('#df-97bf0539-13fc-4958-bc3f-73bc574095b6');\n",
              "          const dataTable =\n",
              "            await google.colab.kernel.invokeFunction('convertToInteractive',\n",
              "                                                     [key], {});\n",
              "          if (!dataTable) return;\n",
              "\n",
              "          const docLinkHtml = 'Like what you see? Visit the ' +\n",
              "            '<a target=\"_blank\" href=https://colab.research.google.com/notebooks/data_table.ipynb>data table notebook</a>'\n",
              "            + ' to learn more about interactive tables.';\n",
              "          element.innerHTML = '';\n",
              "          dataTable['output_type'] = 'display_data';\n",
              "          await google.colab.output.renderOutput(dataTable, element);\n",
              "          const docLink = document.createElement('div');\n",
              "          docLink.innerHTML = docLinkHtml;\n",
              "          element.appendChild(docLink);\n",
              "        }\n",
              "      </script>\n",
              "    </div>\n",
              "  </div>\n",
              "  "
            ]
          },
          "metadata": {},
          "execution_count": 14
        }
      ],
      "source": [
        "df.head()"
      ]
    },
    {
      "cell_type": "code",
      "execution_count": 15,
      "metadata": {
        "colab": {
          "base_uri": "https://localhost:8080/"
        },
        "id": "5jfraOXBzctK",
        "outputId": "30557a68-9ea7-46ab-a146-72242a63e080"
      },
      "outputs": [
        {
          "output_type": "execute_result",
          "data": {
            "text/plain": [
              "Unknown                                     532598\n",
              "--SUSPICIOUS CIRCUM. - SUSPICIOUS PERSON     88064\n",
              "--PROWLER - TRESPASS                         83549\n",
              "--DISTURBANCE - OTHER                        76497\n",
              "--ASSAULTS, OTHER                            68198\n",
              "                                             ...  \n",
              "NARCOTICS - FOUND                               43\n",
              "ASLT - DV                                       43\n",
              "-OFF DUTY EMPLOYMENT                            43\n",
              "SHOTS -DELAY/INCLUDES HEARD/NO ASSAULT          43\n",
              "FIGHT - JO - PHYSICAL (NO WEAPONS)              43\n",
              "Name: Final Call Type, Length: 160, dtype: int64"
            ]
          },
          "metadata": {},
          "execution_count": 15
        }
      ],
      "source": [
        "replace(df, 'Final Call Type', '-', 'Unknown')"
      ]
    },
    {
      "cell_type": "code",
      "execution_count": 16,
      "metadata": {
        "colab": {
          "base_uri": "https://localhost:8080/"
        },
        "id": "SB2xMf4rzxUk",
        "outputId": "a07a6c95-0c31-4629-adb4-4289a32367be"
      },
      "outputs": [
        {
          "output_type": "execute_result",
          "data": {
            "text/plain": [
              "Unknown      386011\n",
              "North        338969\n",
              "West         289218\n",
              "East         183868\n",
              "South        169979\n",
              "Southwest     98814\n",
              "Name: Precinct, dtype: int64"
            ]
          },
          "metadata": {},
          "execution_count": 16
        }
      ],
      "source": [
        "replace(df, 'Precinct', '-', 'Unknown')"
      ]
    },
    {
      "cell_type": "code",
      "execution_count": 17,
      "metadata": {
        "colab": {
          "base_uri": "https://localhost:8080/"
        },
        "id": "iXjK0QF-z9M-",
        "outputId": "b3e86602-3ddd-4003-d1ba-3e708d8dc81b"
      },
      "outputs": [
        {
          "output_type": "execute_result",
          "data": {
            "text/plain": [
              "911                              602817\n",
              "Unknown                          532598\n",
              "ONVIEW                           229749\n",
              "TELEPHONE OTHER, NOT 911          94729\n",
              "ALARM CALL (NOT POLICE ALARM)      6880\n",
              "TEXT MESSAGE                         43\n",
              "SCHEDULED EVENT (RECURRING)          43\n",
              "Name: Call Type, dtype: int64"
            ]
          },
          "metadata": {},
          "execution_count": 17
        }
      ],
      "source": [
        "replace(df, 'Call Type', '-', 'Unknown')"
      ]
    },
    {
      "cell_type": "code",
      "execution_count": 18,
      "metadata": {
        "colab": {
          "base_uri": "https://localhost:8080/"
        },
        "id": "Fitt-uLlMyRj",
        "outputId": "86be2c03-750b-40ca-9564-9db93d96b711"
      },
      "outputs": [
        {
          "output_type": "execute_result",
          "data": {
            "text/plain": [
              "26 - 35         489297\n",
              "18 - 25         316050\n",
              "36 - 45         297001\n",
              "46 - 55         184126\n",
              "1 - 17           70692\n",
              "56 and Above     66607\n",
              "Unknown          43086\n",
              "Name: Subject Age Group, dtype: int64"
            ]
          },
          "metadata": {},
          "execution_count": 18
        }
      ],
      "source": [
        "replace(df, 'Subject Age Group', '-', 'Unknown')"
      ]
    },
    {
      "cell_type": "code",
      "execution_count": 19,
      "metadata": {
        "id": "H_mcclHxVJcT",
        "outputId": "278964f2-e130-4160-e1e4-e2cfe1fbee96",
        "colab": {
          "base_uri": "https://localhost:8080/"
        }
      },
      "outputs": [
        {
          "output_type": "execute_result",
          "data": {
            "text/plain": [
              "White                               732032\n",
              "Black or African American           445007\n",
              "Unknown                              86645\n",
              "Hispanic                             71896\n",
              "American Indian or Alaska Native     46741\n",
              "Asian                                43602\n",
              "Multi-Racial                         34443\n",
              "Other                                 6493\n",
              "Name: Subject Perceived Race, dtype: int64"
            ]
          },
          "metadata": {},
          "execution_count": 19
        }
      ],
      "source": [
        "replace(df, 'Subject Perceived Race', '-', 'Unknown')"
      ]
    },
    {
      "cell_type": "code",
      "execution_count": 20,
      "metadata": {
        "id": "zNbx63fTVJcU",
        "outputId": "56d4e9a8-cd50-42bf-89e4-2f0cbb90cdbe",
        "colab": {
          "base_uri": "https://localhost:8080/"
        }
      },
      "outputs": [
        {
          "output_type": "execute_result",
          "data": {
            "text/plain": [
              "Male                   1138984\n",
              "Female                  304612\n",
              "Unable to Determine      13588\n",
              "Unknown                   9675\n",
              "Name: Subject Perceived Gender, dtype: int64"
            ]
          },
          "metadata": {},
          "execution_count": 20
        }
      ],
      "source": [
        "replace(df, 'Subject Perceived Gender', '-', 'Unknown')"
      ]
    },
    {
      "cell_type": "code",
      "execution_count": 21,
      "metadata": {
        "id": "3y-LppjXVJcU",
        "outputId": "e95ba2fd-ad06-4013-817c-679cbf4841ad",
        "colab": {
          "base_uri": "https://localhost:8080/"
        }
      },
      "outputs": [
        {
          "output_type": "execute_result",
          "data": {
            "text/plain": [
              "N          1131459\n",
              "Y           315190\n",
              "Unknown      20210\n",
              "Name: Frisk Flag, dtype: int64"
            ]
          },
          "metadata": {},
          "execution_count": 21
        }
      ],
      "source": [
        "replace(df, 'Frisk Flag', '-', 'Unknown')"
      ]
    },
    {
      "cell_type": "code",
      "execution_count": 22,
      "metadata": {
        "id": "8zoMYIG40EFl"
      },
      "outputs": [],
      "source": [
        "df['Reported Time'] = df['Reported Time'].str[:5]"
      ]
    },
    {
      "cell_type": "code",
      "execution_count": 23,
      "metadata": {
        "colab": {
          "base_uri": "https://localhost:8080/",
          "height": 511
        },
        "id": "ddV5KHug0vR-",
        "outputId": "02576e26-c810-47b7-c869-a6587814e56b"
      },
      "outputs": [
        {
          "output_type": "execute_result",
          "data": {
            "text/plain": [
              "   Subject Age Group Stop Resolution                Weapon Type  \\\n",
              "2            26 - 35   Field Contact                       None   \n",
              "6            26 - 35   Field Contact                       None   \n",
              "7       56 and Above  Offense Report                       None   \n",
              "9            26 - 35  Offense Report                       None   \n",
              "10           18 - 25  Offense Report  Lethal Cutting Instrument   \n",
              "\n",
              "   Officer Gender                   Officer Race Subject Perceived Race  \\\n",
              "2               M  Nat Hawaiian/Oth Pac Islander                  White   \n",
              "6               M                          White                  White   \n",
              "7               M                          White                  White   \n",
              "9               M             Hispanic or Latino                  White   \n",
              "10              M             Hispanic or Latino                  White   \n",
              "\n",
              "   Subject Perceived Gender Reported Time  \\\n",
              "2                      Male         16:14   \n",
              "6                      Male         16:56   \n",
              "7                      Male         17:38   \n",
              "9                      Male         00:52   \n",
              "10                     Male         02:34   \n",
              "\n",
              "                        Final Call Type Call Type  \\\n",
              "2                               Unknown   Unknown   \n",
              "6                               Unknown   Unknown   \n",
              "7   --DV - ASSIST VICTIM BY COURT ORDER       911   \n",
              "9                     --ASSAULTS, OTHER    ONVIEW   \n",
              "10                --DISTURBANCE - OTHER       911   \n",
              "\n",
              "                           Officer Squad Frisk Flag Precinct  age  \n",
              "2     NORTH PCT 2ND W - JOHN - PLATOON 1          N  Unknown   57  \n",
              "6            WEST PCT 2ND W - D/M RELIEF          N  Unknown   33  \n",
              "7   SOUTH PCT 2ND W - ROBERT - PLATOON 2          N    South   27  \n",
              "9        EAST PCT 2ND W - CHARLIE RELIEF          N     East   28  \n",
              "10           EAST PCT 3RD W - E/G RELIEF          Y     East   26  "
            ],
            "text/html": [
              "\n",
              "  <div id=\"df-26739412-cb23-4ce0-9321-56b974e1123f\">\n",
              "    <div class=\"colab-df-container\">\n",
              "      <div>\n",
              "<style scoped>\n",
              "    .dataframe tbody tr th:only-of-type {\n",
              "        vertical-align: middle;\n",
              "    }\n",
              "\n",
              "    .dataframe tbody tr th {\n",
              "        vertical-align: top;\n",
              "    }\n",
              "\n",
              "    .dataframe thead th {\n",
              "        text-align: right;\n",
              "    }\n",
              "</style>\n",
              "<table border=\"1\" class=\"dataframe\">\n",
              "  <thead>\n",
              "    <tr style=\"text-align: right;\">\n",
              "      <th></th>\n",
              "      <th>Subject Age Group</th>\n",
              "      <th>Stop Resolution</th>\n",
              "      <th>Weapon Type</th>\n",
              "      <th>Officer Gender</th>\n",
              "      <th>Officer Race</th>\n",
              "      <th>Subject Perceived Race</th>\n",
              "      <th>Subject Perceived Gender</th>\n",
              "      <th>Reported Time</th>\n",
              "      <th>Final Call Type</th>\n",
              "      <th>Call Type</th>\n",
              "      <th>Officer Squad</th>\n",
              "      <th>Frisk Flag</th>\n",
              "      <th>Precinct</th>\n",
              "      <th>age</th>\n",
              "    </tr>\n",
              "  </thead>\n",
              "  <tbody>\n",
              "    <tr>\n",
              "      <th>2</th>\n",
              "      <td>26 - 35</td>\n",
              "      <td>Field Contact</td>\n",
              "      <td>None</td>\n",
              "      <td>M</td>\n",
              "      <td>Nat Hawaiian/Oth Pac Islander</td>\n",
              "      <td>White</td>\n",
              "      <td>Male</td>\n",
              "      <td>16:14</td>\n",
              "      <td>Unknown</td>\n",
              "      <td>Unknown</td>\n",
              "      <td>NORTH PCT 2ND W - JOHN - PLATOON 1</td>\n",
              "      <td>N</td>\n",
              "      <td>Unknown</td>\n",
              "      <td>57</td>\n",
              "    </tr>\n",
              "    <tr>\n",
              "      <th>6</th>\n",
              "      <td>26 - 35</td>\n",
              "      <td>Field Contact</td>\n",
              "      <td>None</td>\n",
              "      <td>M</td>\n",
              "      <td>White</td>\n",
              "      <td>White</td>\n",
              "      <td>Male</td>\n",
              "      <td>16:56</td>\n",
              "      <td>Unknown</td>\n",
              "      <td>Unknown</td>\n",
              "      <td>WEST PCT 2ND W - D/M RELIEF</td>\n",
              "      <td>N</td>\n",
              "      <td>Unknown</td>\n",
              "      <td>33</td>\n",
              "    </tr>\n",
              "    <tr>\n",
              "      <th>7</th>\n",
              "      <td>56 and Above</td>\n",
              "      <td>Offense Report</td>\n",
              "      <td>None</td>\n",
              "      <td>M</td>\n",
              "      <td>White</td>\n",
              "      <td>White</td>\n",
              "      <td>Male</td>\n",
              "      <td>17:38</td>\n",
              "      <td>--DV - ASSIST VICTIM BY COURT ORDER</td>\n",
              "      <td>911</td>\n",
              "      <td>SOUTH PCT 2ND W - ROBERT - PLATOON 2</td>\n",
              "      <td>N</td>\n",
              "      <td>South</td>\n",
              "      <td>27</td>\n",
              "    </tr>\n",
              "    <tr>\n",
              "      <th>9</th>\n",
              "      <td>26 - 35</td>\n",
              "      <td>Offense Report</td>\n",
              "      <td>None</td>\n",
              "      <td>M</td>\n",
              "      <td>Hispanic or Latino</td>\n",
              "      <td>White</td>\n",
              "      <td>Male</td>\n",
              "      <td>00:52</td>\n",
              "      <td>--ASSAULTS, OTHER</td>\n",
              "      <td>ONVIEW</td>\n",
              "      <td>EAST PCT 2ND W - CHARLIE RELIEF</td>\n",
              "      <td>N</td>\n",
              "      <td>East</td>\n",
              "      <td>28</td>\n",
              "    </tr>\n",
              "    <tr>\n",
              "      <th>10</th>\n",
              "      <td>18 - 25</td>\n",
              "      <td>Offense Report</td>\n",
              "      <td>Lethal Cutting Instrument</td>\n",
              "      <td>M</td>\n",
              "      <td>Hispanic or Latino</td>\n",
              "      <td>White</td>\n",
              "      <td>Male</td>\n",
              "      <td>02:34</td>\n",
              "      <td>--DISTURBANCE - OTHER</td>\n",
              "      <td>911</td>\n",
              "      <td>EAST PCT 3RD W - E/G RELIEF</td>\n",
              "      <td>Y</td>\n",
              "      <td>East</td>\n",
              "      <td>26</td>\n",
              "    </tr>\n",
              "  </tbody>\n",
              "</table>\n",
              "</div>\n",
              "      <button class=\"colab-df-convert\" onclick=\"convertToInteractive('df-26739412-cb23-4ce0-9321-56b974e1123f')\"\n",
              "              title=\"Convert this dataframe to an interactive table.\"\n",
              "              style=\"display:none;\">\n",
              "        \n",
              "  <svg xmlns=\"http://www.w3.org/2000/svg\" height=\"24px\"viewBox=\"0 0 24 24\"\n",
              "       width=\"24px\">\n",
              "    <path d=\"M0 0h24v24H0V0z\" fill=\"none\"/>\n",
              "    <path d=\"M18.56 5.44l.94 2.06.94-2.06 2.06-.94-2.06-.94-.94-2.06-.94 2.06-2.06.94zm-11 1L8.5 8.5l.94-2.06 2.06-.94-2.06-.94L8.5 2.5l-.94 2.06-2.06.94zm10 10l.94 2.06.94-2.06 2.06-.94-2.06-.94-.94-2.06-.94 2.06-2.06.94z\"/><path d=\"M17.41 7.96l-1.37-1.37c-.4-.4-.92-.59-1.43-.59-.52 0-1.04.2-1.43.59L10.3 9.45l-7.72 7.72c-.78.78-.78 2.05 0 2.83L4 21.41c.39.39.9.59 1.41.59.51 0 1.02-.2 1.41-.59l7.78-7.78 2.81-2.81c.8-.78.8-2.07 0-2.86zM5.41 20L4 18.59l7.72-7.72 1.47 1.35L5.41 20z\"/>\n",
              "  </svg>\n",
              "      </button>\n",
              "      \n",
              "  <style>\n",
              "    .colab-df-container {\n",
              "      display:flex;\n",
              "      flex-wrap:wrap;\n",
              "      gap: 12px;\n",
              "    }\n",
              "\n",
              "    .colab-df-convert {\n",
              "      background-color: #E8F0FE;\n",
              "      border: none;\n",
              "      border-radius: 50%;\n",
              "      cursor: pointer;\n",
              "      display: none;\n",
              "      fill: #1967D2;\n",
              "      height: 32px;\n",
              "      padding: 0 0 0 0;\n",
              "      width: 32px;\n",
              "    }\n",
              "\n",
              "    .colab-df-convert:hover {\n",
              "      background-color: #E2EBFA;\n",
              "      box-shadow: 0px 1px 2px rgba(60, 64, 67, 0.3), 0px 1px 3px 1px rgba(60, 64, 67, 0.15);\n",
              "      fill: #174EA6;\n",
              "    }\n",
              "\n",
              "    [theme=dark] .colab-df-convert {\n",
              "      background-color: #3B4455;\n",
              "      fill: #D2E3FC;\n",
              "    }\n",
              "\n",
              "    [theme=dark] .colab-df-convert:hover {\n",
              "      background-color: #434B5C;\n",
              "      box-shadow: 0px 1px 3px 1px rgba(0, 0, 0, 0.15);\n",
              "      filter: drop-shadow(0px 1px 2px rgba(0, 0, 0, 0.3));\n",
              "      fill: #FFFFFF;\n",
              "    }\n",
              "  </style>\n",
              "\n",
              "      <script>\n",
              "        const buttonEl =\n",
              "          document.querySelector('#df-26739412-cb23-4ce0-9321-56b974e1123f button.colab-df-convert');\n",
              "        buttonEl.style.display =\n",
              "          google.colab.kernel.accessAllowed ? 'block' : 'none';\n",
              "\n",
              "        async function convertToInteractive(key) {\n",
              "          const element = document.querySelector('#df-26739412-cb23-4ce0-9321-56b974e1123f');\n",
              "          const dataTable =\n",
              "            await google.colab.kernel.invokeFunction('convertToInteractive',\n",
              "                                                     [key], {});\n",
              "          if (!dataTable) return;\n",
              "\n",
              "          const docLinkHtml = 'Like what you see? Visit the ' +\n",
              "            '<a target=\"_blank\" href=https://colab.research.google.com/notebooks/data_table.ipynb>data table notebook</a>'\n",
              "            + ' to learn more about interactive tables.';\n",
              "          element.innerHTML = '';\n",
              "          dataTable['output_type'] = 'display_data';\n",
              "          await google.colab.output.renderOutput(dataTable, element);\n",
              "          const docLink = document.createElement('div');\n",
              "          docLink.innerHTML = docLinkHtml;\n",
              "          element.appendChild(docLink);\n",
              "        }\n",
              "      </script>\n",
              "    </div>\n",
              "  </div>\n",
              "  "
            ]
          },
          "metadata": {},
          "execution_count": 23
        }
      ],
      "source": [
        "df.head()"
      ]
    },
    {
      "cell_type": "code",
      "execution_count": 24,
      "metadata": {
        "colab": {
          "base_uri": "https://localhost:8080/"
        },
        "id": "DeVfg1_e0xSp",
        "outputId": "3017115c-1bae-45bd-fe1f-862185bcd1b0"
      },
      "outputs": [
        {
          "output_type": "execute_result",
          "data": {
            "text/plain": [
              "array(['Field Contact', 'Offense Report', 'Arrest',\n",
              "       'Citation / Infraction', 'Referred for Prosecution'], dtype=object)"
            ]
          },
          "metadata": {},
          "execution_count": 24
        }
      ],
      "source": [
        "df['Stop Resolution'].unique()"
      ]
    },
    {
      "cell_type": "markdown",
      "metadata": {
        "id": "1qXoITI518Tc"
      },
      "source": [
        "The target column can then be engineered to contain binary according to the outcome of the stop.\n",
        "From the above cell, there are 5 different outcomes, I'll combine them according to the severity of the outcome\n",
        "- `1` means `Arrest` while `0` means `No Arrest`."
      ]
    },
    {
      "cell_type": "code",
      "execution_count": 25,
      "metadata": {
        "colab": {
          "base_uri": "https://localhost:8080/"
        },
        "id": "ER9vxYrq13qO",
        "outputId": "229ed29c-108d-488a-90e5-937350e5402f"
      },
      "outputs": [
        {
          "output_type": "execute_result",
          "data": {
            "text/plain": [
              "1    931165\n",
              "0    535694\n",
              "Name: Stop Resolution, dtype: int64"
            ]
          },
          "metadata": {},
          "execution_count": 25
        }
      ],
      "source": [
        "replace(df, 'Stop Resolution', ['Field Contact', 'Citation / Infraction'] , 0)\n",
        "\n",
        "replace(df, 'Stop Resolution', ['Offense Report', 'Arrest', 'Referred for Prosecution'], 1)\n",
        "\n"
      ]
    },
    {
      "cell_type": "code",
      "execution_count": 26,
      "metadata": {
        "colab": {
          "base_uri": "https://localhost:8080/",
          "height": 488
        },
        "id": "U0zK6vMH3Lbd",
        "outputId": "62b934b7-61c9-4589-96a0-666dd12fc9fc"
      },
      "outputs": [
        {
          "output_type": "execute_result",
          "data": {
            "text/plain": [
              "                      Column  Missing Percentage Missing Values   Length  \\\n",
              "0          Subject Age Group                 0.0              0  1466859   \n",
              "1            Stop Resolution                 0.0              0  1466859   \n",
              "2                Weapon Type                 0.0              0  1466859   \n",
              "3             Officer Gender                 0.0              0  1466859   \n",
              "4               Officer Race                 0.0              0  1466859   \n",
              "5     Subject Perceived Race                 0.0              0  1466859   \n",
              "6   Subject Perceived Gender                 0.0              0  1466859   \n",
              "7              Reported Time                 0.0              0  1466859   \n",
              "8            Final Call Type                 0.0              0  1466859   \n",
              "9                  Call Type                 0.0              0  1466859   \n",
              "10             Officer Squad                 0.0              0  1466859   \n",
              "11                Frisk Flag                 0.0              0  1466859   \n",
              "12                  Precinct                 0.0              0  1466859   \n",
              "13                       age                 0.0              0  1466859   \n",
              "\n",
              "   Data type  \n",
              "0     object  \n",
              "1      int64  \n",
              "2     object  \n",
              "3     object  \n",
              "4     object  \n",
              "5     object  \n",
              "6     object  \n",
              "7     object  \n",
              "8     object  \n",
              "9     object  \n",
              "10    object  \n",
              "11    object  \n",
              "12    object  \n",
              "13     int64  "
            ],
            "text/html": [
              "\n",
              "  <div id=\"df-ab089293-1022-410d-a959-c808f9526d2c\">\n",
              "    <div class=\"colab-df-container\">\n",
              "      <div>\n",
              "<style scoped>\n",
              "    .dataframe tbody tr th:only-of-type {\n",
              "        vertical-align: middle;\n",
              "    }\n",
              "\n",
              "    .dataframe tbody tr th {\n",
              "        vertical-align: top;\n",
              "    }\n",
              "\n",
              "    .dataframe thead th {\n",
              "        text-align: right;\n",
              "    }\n",
              "</style>\n",
              "<table border=\"1\" class=\"dataframe\">\n",
              "  <thead>\n",
              "    <tr style=\"text-align: right;\">\n",
              "      <th></th>\n",
              "      <th>Column</th>\n",
              "      <th>Missing Percentage</th>\n",
              "      <th>Missing Values</th>\n",
              "      <th>Length</th>\n",
              "      <th>Data type</th>\n",
              "    </tr>\n",
              "  </thead>\n",
              "  <tbody>\n",
              "    <tr>\n",
              "      <th>0</th>\n",
              "      <td>Subject Age Group</td>\n",
              "      <td>0.0</td>\n",
              "      <td>0</td>\n",
              "      <td>1466859</td>\n",
              "      <td>object</td>\n",
              "    </tr>\n",
              "    <tr>\n",
              "      <th>1</th>\n",
              "      <td>Stop Resolution</td>\n",
              "      <td>0.0</td>\n",
              "      <td>0</td>\n",
              "      <td>1466859</td>\n",
              "      <td>int64</td>\n",
              "    </tr>\n",
              "    <tr>\n",
              "      <th>2</th>\n",
              "      <td>Weapon Type</td>\n",
              "      <td>0.0</td>\n",
              "      <td>0</td>\n",
              "      <td>1466859</td>\n",
              "      <td>object</td>\n",
              "    </tr>\n",
              "    <tr>\n",
              "      <th>3</th>\n",
              "      <td>Officer Gender</td>\n",
              "      <td>0.0</td>\n",
              "      <td>0</td>\n",
              "      <td>1466859</td>\n",
              "      <td>object</td>\n",
              "    </tr>\n",
              "    <tr>\n",
              "      <th>4</th>\n",
              "      <td>Officer Race</td>\n",
              "      <td>0.0</td>\n",
              "      <td>0</td>\n",
              "      <td>1466859</td>\n",
              "      <td>object</td>\n",
              "    </tr>\n",
              "    <tr>\n",
              "      <th>5</th>\n",
              "      <td>Subject Perceived Race</td>\n",
              "      <td>0.0</td>\n",
              "      <td>0</td>\n",
              "      <td>1466859</td>\n",
              "      <td>object</td>\n",
              "    </tr>\n",
              "    <tr>\n",
              "      <th>6</th>\n",
              "      <td>Subject Perceived Gender</td>\n",
              "      <td>0.0</td>\n",
              "      <td>0</td>\n",
              "      <td>1466859</td>\n",
              "      <td>object</td>\n",
              "    </tr>\n",
              "    <tr>\n",
              "      <th>7</th>\n",
              "      <td>Reported Time</td>\n",
              "      <td>0.0</td>\n",
              "      <td>0</td>\n",
              "      <td>1466859</td>\n",
              "      <td>object</td>\n",
              "    </tr>\n",
              "    <tr>\n",
              "      <th>8</th>\n",
              "      <td>Final Call Type</td>\n",
              "      <td>0.0</td>\n",
              "      <td>0</td>\n",
              "      <td>1466859</td>\n",
              "      <td>object</td>\n",
              "    </tr>\n",
              "    <tr>\n",
              "      <th>9</th>\n",
              "      <td>Call Type</td>\n",
              "      <td>0.0</td>\n",
              "      <td>0</td>\n",
              "      <td>1466859</td>\n",
              "      <td>object</td>\n",
              "    </tr>\n",
              "    <tr>\n",
              "      <th>10</th>\n",
              "      <td>Officer Squad</td>\n",
              "      <td>0.0</td>\n",
              "      <td>0</td>\n",
              "      <td>1466859</td>\n",
              "      <td>object</td>\n",
              "    </tr>\n",
              "    <tr>\n",
              "      <th>11</th>\n",
              "      <td>Frisk Flag</td>\n",
              "      <td>0.0</td>\n",
              "      <td>0</td>\n",
              "      <td>1466859</td>\n",
              "      <td>object</td>\n",
              "    </tr>\n",
              "    <tr>\n",
              "      <th>12</th>\n",
              "      <td>Precinct</td>\n",
              "      <td>0.0</td>\n",
              "      <td>0</td>\n",
              "      <td>1466859</td>\n",
              "      <td>object</td>\n",
              "    </tr>\n",
              "    <tr>\n",
              "      <th>13</th>\n",
              "      <td>age</td>\n",
              "      <td>0.0</td>\n",
              "      <td>0</td>\n",
              "      <td>1466859</td>\n",
              "      <td>int64</td>\n",
              "    </tr>\n",
              "  </tbody>\n",
              "</table>\n",
              "</div>\n",
              "      <button class=\"colab-df-convert\" onclick=\"convertToInteractive('df-ab089293-1022-410d-a959-c808f9526d2c')\"\n",
              "              title=\"Convert this dataframe to an interactive table.\"\n",
              "              style=\"display:none;\">\n",
              "        \n",
              "  <svg xmlns=\"http://www.w3.org/2000/svg\" height=\"24px\"viewBox=\"0 0 24 24\"\n",
              "       width=\"24px\">\n",
              "    <path d=\"M0 0h24v24H0V0z\" fill=\"none\"/>\n",
              "    <path d=\"M18.56 5.44l.94 2.06.94-2.06 2.06-.94-2.06-.94-.94-2.06-.94 2.06-2.06.94zm-11 1L8.5 8.5l.94-2.06 2.06-.94-2.06-.94L8.5 2.5l-.94 2.06-2.06.94zm10 10l.94 2.06.94-2.06 2.06-.94-2.06-.94-.94-2.06-.94 2.06-2.06.94z\"/><path d=\"M17.41 7.96l-1.37-1.37c-.4-.4-.92-.59-1.43-.59-.52 0-1.04.2-1.43.59L10.3 9.45l-7.72 7.72c-.78.78-.78 2.05 0 2.83L4 21.41c.39.39.9.59 1.41.59.51 0 1.02-.2 1.41-.59l7.78-7.78 2.81-2.81c.8-.78.8-2.07 0-2.86zM5.41 20L4 18.59l7.72-7.72 1.47 1.35L5.41 20z\"/>\n",
              "  </svg>\n",
              "      </button>\n",
              "      \n",
              "  <style>\n",
              "    .colab-df-container {\n",
              "      display:flex;\n",
              "      flex-wrap:wrap;\n",
              "      gap: 12px;\n",
              "    }\n",
              "\n",
              "    .colab-df-convert {\n",
              "      background-color: #E8F0FE;\n",
              "      border: none;\n",
              "      border-radius: 50%;\n",
              "      cursor: pointer;\n",
              "      display: none;\n",
              "      fill: #1967D2;\n",
              "      height: 32px;\n",
              "      padding: 0 0 0 0;\n",
              "      width: 32px;\n",
              "    }\n",
              "\n",
              "    .colab-df-convert:hover {\n",
              "      background-color: #E2EBFA;\n",
              "      box-shadow: 0px 1px 2px rgba(60, 64, 67, 0.3), 0px 1px 3px 1px rgba(60, 64, 67, 0.15);\n",
              "      fill: #174EA6;\n",
              "    }\n",
              "\n",
              "    [theme=dark] .colab-df-convert {\n",
              "      background-color: #3B4455;\n",
              "      fill: #D2E3FC;\n",
              "    }\n",
              "\n",
              "    [theme=dark] .colab-df-convert:hover {\n",
              "      background-color: #434B5C;\n",
              "      box-shadow: 0px 1px 3px 1px rgba(0, 0, 0, 0.15);\n",
              "      filter: drop-shadow(0px 1px 2px rgba(0, 0, 0, 0.3));\n",
              "      fill: #FFFFFF;\n",
              "    }\n",
              "  </style>\n",
              "\n",
              "      <script>\n",
              "        const buttonEl =\n",
              "          document.querySelector('#df-ab089293-1022-410d-a959-c808f9526d2c button.colab-df-convert');\n",
              "        buttonEl.style.display =\n",
              "          google.colab.kernel.accessAllowed ? 'block' : 'none';\n",
              "\n",
              "        async function convertToInteractive(key) {\n",
              "          const element = document.querySelector('#df-ab089293-1022-410d-a959-c808f9526d2c');\n",
              "          const dataTable =\n",
              "            await google.colab.kernel.invokeFunction('convertToInteractive',\n",
              "                                                     [key], {});\n",
              "          if (!dataTable) return;\n",
              "\n",
              "          const docLinkHtml = 'Like what you see? Visit the ' +\n",
              "            '<a target=\"_blank\" href=https://colab.research.google.com/notebooks/data_table.ipynb>data table notebook</a>'\n",
              "            + ' to learn more about interactive tables.';\n",
              "          element.innerHTML = '';\n",
              "          dataTable['output_type'] = 'display_data';\n",
              "          await google.colab.output.renderOutput(dataTable, element);\n",
              "          const docLink = document.createElement('div');\n",
              "          docLink.innerHTML = docLinkHtml;\n",
              "          element.appendChild(docLink);\n",
              "        }\n",
              "      </script>\n",
              "    </div>\n",
              "  </div>\n",
              "  "
            ]
          },
          "metadata": {},
          "execution_count": 26
        }
      ],
      "source": [
        "info(df)"
      ]
    },
    {
      "cell_type": "code",
      "execution_count": 27,
      "metadata": {
        "id": "qYU7cAbm5XM2"
      },
      "outputs": [],
      "source": [
        "# Removing minutes in time by rounding to the next hour\n",
        "df['Reported Time'] = df['Reported Time'].apply(round_time)\n"
      ]
    },
    {
      "cell_type": "code",
      "execution_count": 28,
      "metadata": {
        "colab": {
          "base_uri": "https://localhost:8080/"
        },
        "id": "53V2nCpi6vFr",
        "outputId": "58ccea97-e6f2-4f61-8f2f-7e458b228237"
      },
      "outputs": [
        {
          "output_type": "execute_result",
          "data": {
            "text/plain": [
              "array(['26 - 35', '56 and Above', '18 - 25', '46 - 55', 'Unknown',\n",
              "       '36 - 45', '1 - 17'], dtype=object)"
            ]
          },
          "metadata": {},
          "execution_count": 28
        }
      ],
      "source": [
        "df['Subject Age Group'].unique()"
      ]
    },
    {
      "cell_type": "markdown",
      "metadata": {
        "id": "rDYVGsC3Lknd"
      },
      "source": [
        "Using the age groups in subjects, I will create similar groups for the police."
      ]
    },
    {
      "cell_type": "code",
      "execution_count": 29,
      "metadata": {
        "id": "oJcldWwJNWdt"
      },
      "outputs": [],
      "source": [
        "df['Officer Age Group'] = df['age'].apply(map_age)"
      ]
    },
    {
      "cell_type": "code",
      "execution_count": 30,
      "metadata": {
        "id": "KYNztGNLNqv2"
      },
      "outputs": [],
      "source": [
        "df.drop('age', axis=1, inplace=True)"
      ]
    },
    {
      "cell_type": "code",
      "execution_count": 31,
      "metadata": {
        "id": "9OWJNxxhVJci"
      },
      "outputs": [],
      "source": [
        "df['Reported Time'] = df['Reported Time'].apply(map_time)"
      ]
    },
    {
      "cell_type": "code",
      "execution_count": 32,
      "metadata": {
        "id": "Z01p6AF4VJci"
      },
      "outputs": [],
      "source": [
        "df['Final Call Type'] = df['Final Call Type'].apply(call_group)"
      ]
    },
    {
      "cell_type": "code",
      "execution_count": 33,
      "metadata": {
        "id": "yXY9PdquVJci"
      },
      "outputs": [],
      "source": [
        "df['Officer Squad'] = df['Officer Squad'].apply(squad_groups)"
      ]
    },
    {
      "cell_type": "code",
      "execution_count": 34,
      "metadata": {
        "colab": {
          "base_uri": "https://localhost:8080/",
          "height": 488
        },
        "id": "GWDavsf-NzMJ",
        "outputId": "5c2d2148-564c-4531-bee9-3f088819bff9"
      },
      "outputs": [
        {
          "output_type": "execute_result",
          "data": {
            "text/plain": [
              "                      Column  Missing Percentage Missing Values   Length  \\\n",
              "0          Subject Age Group                 0.0              0  1466859   \n",
              "1            Stop Resolution                 0.0              0  1466859   \n",
              "2                Weapon Type                 0.0              0  1466859   \n",
              "3             Officer Gender                 0.0              0  1466859   \n",
              "4               Officer Race                 0.0              0  1466859   \n",
              "5     Subject Perceived Race                 0.0              0  1466859   \n",
              "6   Subject Perceived Gender                 0.0              0  1466859   \n",
              "7              Reported Time                 0.0              0  1466859   \n",
              "8            Final Call Type                 0.0              0  1466859   \n",
              "9                  Call Type                 0.0              0  1466859   \n",
              "10             Officer Squad                 0.0              0  1466859   \n",
              "11                Frisk Flag                 0.0              0  1466859   \n",
              "12                  Precinct                 0.0              0  1466859   \n",
              "13         Officer Age Group                 0.0              0  1466859   \n",
              "\n",
              "   Data type  \n",
              "0     object  \n",
              "1      int64  \n",
              "2     object  \n",
              "3     object  \n",
              "4     object  \n",
              "5     object  \n",
              "6     object  \n",
              "7     object  \n",
              "8     object  \n",
              "9     object  \n",
              "10    object  \n",
              "11    object  \n",
              "12    object  \n",
              "13    object  "
            ],
            "text/html": [
              "\n",
              "  <div id=\"df-d01c73ab-10c1-4ce3-b885-9a029b53a4f5\">\n",
              "    <div class=\"colab-df-container\">\n",
              "      <div>\n",
              "<style scoped>\n",
              "    .dataframe tbody tr th:only-of-type {\n",
              "        vertical-align: middle;\n",
              "    }\n",
              "\n",
              "    .dataframe tbody tr th {\n",
              "        vertical-align: top;\n",
              "    }\n",
              "\n",
              "    .dataframe thead th {\n",
              "        text-align: right;\n",
              "    }\n",
              "</style>\n",
              "<table border=\"1\" class=\"dataframe\">\n",
              "  <thead>\n",
              "    <tr style=\"text-align: right;\">\n",
              "      <th></th>\n",
              "      <th>Column</th>\n",
              "      <th>Missing Percentage</th>\n",
              "      <th>Missing Values</th>\n",
              "      <th>Length</th>\n",
              "      <th>Data type</th>\n",
              "    </tr>\n",
              "  </thead>\n",
              "  <tbody>\n",
              "    <tr>\n",
              "      <th>0</th>\n",
              "      <td>Subject Age Group</td>\n",
              "      <td>0.0</td>\n",
              "      <td>0</td>\n",
              "      <td>1466859</td>\n",
              "      <td>object</td>\n",
              "    </tr>\n",
              "    <tr>\n",
              "      <th>1</th>\n",
              "      <td>Stop Resolution</td>\n",
              "      <td>0.0</td>\n",
              "      <td>0</td>\n",
              "      <td>1466859</td>\n",
              "      <td>int64</td>\n",
              "    </tr>\n",
              "    <tr>\n",
              "      <th>2</th>\n",
              "      <td>Weapon Type</td>\n",
              "      <td>0.0</td>\n",
              "      <td>0</td>\n",
              "      <td>1466859</td>\n",
              "      <td>object</td>\n",
              "    </tr>\n",
              "    <tr>\n",
              "      <th>3</th>\n",
              "      <td>Officer Gender</td>\n",
              "      <td>0.0</td>\n",
              "      <td>0</td>\n",
              "      <td>1466859</td>\n",
              "      <td>object</td>\n",
              "    </tr>\n",
              "    <tr>\n",
              "      <th>4</th>\n",
              "      <td>Officer Race</td>\n",
              "      <td>0.0</td>\n",
              "      <td>0</td>\n",
              "      <td>1466859</td>\n",
              "      <td>object</td>\n",
              "    </tr>\n",
              "    <tr>\n",
              "      <th>5</th>\n",
              "      <td>Subject Perceived Race</td>\n",
              "      <td>0.0</td>\n",
              "      <td>0</td>\n",
              "      <td>1466859</td>\n",
              "      <td>object</td>\n",
              "    </tr>\n",
              "    <tr>\n",
              "      <th>6</th>\n",
              "      <td>Subject Perceived Gender</td>\n",
              "      <td>0.0</td>\n",
              "      <td>0</td>\n",
              "      <td>1466859</td>\n",
              "      <td>object</td>\n",
              "    </tr>\n",
              "    <tr>\n",
              "      <th>7</th>\n",
              "      <td>Reported Time</td>\n",
              "      <td>0.0</td>\n",
              "      <td>0</td>\n",
              "      <td>1466859</td>\n",
              "      <td>object</td>\n",
              "    </tr>\n",
              "    <tr>\n",
              "      <th>8</th>\n",
              "      <td>Final Call Type</td>\n",
              "      <td>0.0</td>\n",
              "      <td>0</td>\n",
              "      <td>1466859</td>\n",
              "      <td>object</td>\n",
              "    </tr>\n",
              "    <tr>\n",
              "      <th>9</th>\n",
              "      <td>Call Type</td>\n",
              "      <td>0.0</td>\n",
              "      <td>0</td>\n",
              "      <td>1466859</td>\n",
              "      <td>object</td>\n",
              "    </tr>\n",
              "    <tr>\n",
              "      <th>10</th>\n",
              "      <td>Officer Squad</td>\n",
              "      <td>0.0</td>\n",
              "      <td>0</td>\n",
              "      <td>1466859</td>\n",
              "      <td>object</td>\n",
              "    </tr>\n",
              "    <tr>\n",
              "      <th>11</th>\n",
              "      <td>Frisk Flag</td>\n",
              "      <td>0.0</td>\n",
              "      <td>0</td>\n",
              "      <td>1466859</td>\n",
              "      <td>object</td>\n",
              "    </tr>\n",
              "    <tr>\n",
              "      <th>12</th>\n",
              "      <td>Precinct</td>\n",
              "      <td>0.0</td>\n",
              "      <td>0</td>\n",
              "      <td>1466859</td>\n",
              "      <td>object</td>\n",
              "    </tr>\n",
              "    <tr>\n",
              "      <th>13</th>\n",
              "      <td>Officer Age Group</td>\n",
              "      <td>0.0</td>\n",
              "      <td>0</td>\n",
              "      <td>1466859</td>\n",
              "      <td>object</td>\n",
              "    </tr>\n",
              "  </tbody>\n",
              "</table>\n",
              "</div>\n",
              "      <button class=\"colab-df-convert\" onclick=\"convertToInteractive('df-d01c73ab-10c1-4ce3-b885-9a029b53a4f5')\"\n",
              "              title=\"Convert this dataframe to an interactive table.\"\n",
              "              style=\"display:none;\">\n",
              "        \n",
              "  <svg xmlns=\"http://www.w3.org/2000/svg\" height=\"24px\"viewBox=\"0 0 24 24\"\n",
              "       width=\"24px\">\n",
              "    <path d=\"M0 0h24v24H0V0z\" fill=\"none\"/>\n",
              "    <path d=\"M18.56 5.44l.94 2.06.94-2.06 2.06-.94-2.06-.94-.94-2.06-.94 2.06-2.06.94zm-11 1L8.5 8.5l.94-2.06 2.06-.94-2.06-.94L8.5 2.5l-.94 2.06-2.06.94zm10 10l.94 2.06.94-2.06 2.06-.94-2.06-.94-.94-2.06-.94 2.06-2.06.94z\"/><path d=\"M17.41 7.96l-1.37-1.37c-.4-.4-.92-.59-1.43-.59-.52 0-1.04.2-1.43.59L10.3 9.45l-7.72 7.72c-.78.78-.78 2.05 0 2.83L4 21.41c.39.39.9.59 1.41.59.51 0 1.02-.2 1.41-.59l7.78-7.78 2.81-2.81c.8-.78.8-2.07 0-2.86zM5.41 20L4 18.59l7.72-7.72 1.47 1.35L5.41 20z\"/>\n",
              "  </svg>\n",
              "      </button>\n",
              "      \n",
              "  <style>\n",
              "    .colab-df-container {\n",
              "      display:flex;\n",
              "      flex-wrap:wrap;\n",
              "      gap: 12px;\n",
              "    }\n",
              "\n",
              "    .colab-df-convert {\n",
              "      background-color: #E8F0FE;\n",
              "      border: none;\n",
              "      border-radius: 50%;\n",
              "      cursor: pointer;\n",
              "      display: none;\n",
              "      fill: #1967D2;\n",
              "      height: 32px;\n",
              "      padding: 0 0 0 0;\n",
              "      width: 32px;\n",
              "    }\n",
              "\n",
              "    .colab-df-convert:hover {\n",
              "      background-color: #E2EBFA;\n",
              "      box-shadow: 0px 1px 2px rgba(60, 64, 67, 0.3), 0px 1px 3px 1px rgba(60, 64, 67, 0.15);\n",
              "      fill: #174EA6;\n",
              "    }\n",
              "\n",
              "    [theme=dark] .colab-df-convert {\n",
              "      background-color: #3B4455;\n",
              "      fill: #D2E3FC;\n",
              "    }\n",
              "\n",
              "    [theme=dark] .colab-df-convert:hover {\n",
              "      background-color: #434B5C;\n",
              "      box-shadow: 0px 1px 3px 1px rgba(0, 0, 0, 0.15);\n",
              "      filter: drop-shadow(0px 1px 2px rgba(0, 0, 0, 0.3));\n",
              "      fill: #FFFFFF;\n",
              "    }\n",
              "  </style>\n",
              "\n",
              "      <script>\n",
              "        const buttonEl =\n",
              "          document.querySelector('#df-d01c73ab-10c1-4ce3-b885-9a029b53a4f5 button.colab-df-convert');\n",
              "        buttonEl.style.display =\n",
              "          google.colab.kernel.accessAllowed ? 'block' : 'none';\n",
              "\n",
              "        async function convertToInteractive(key) {\n",
              "          const element = document.querySelector('#df-d01c73ab-10c1-4ce3-b885-9a029b53a4f5');\n",
              "          const dataTable =\n",
              "            await google.colab.kernel.invokeFunction('convertToInteractive',\n",
              "                                                     [key], {});\n",
              "          if (!dataTable) return;\n",
              "\n",
              "          const docLinkHtml = 'Like what you see? Visit the ' +\n",
              "            '<a target=\"_blank\" href=https://colab.research.google.com/notebooks/data_table.ipynb>data table notebook</a>'\n",
              "            + ' to learn more about interactive tables.';\n",
              "          element.innerHTML = '';\n",
              "          dataTable['output_type'] = 'display_data';\n",
              "          await google.colab.output.renderOutput(dataTable, element);\n",
              "          const docLink = document.createElement('div');\n",
              "          docLink.innerHTML = docLinkHtml;\n",
              "          element.appendChild(docLink);\n",
              "        }\n",
              "      </script>\n",
              "    </div>\n",
              "  </div>\n",
              "  "
            ]
          },
          "metadata": {},
          "execution_count": 34
        }
      ],
      "source": [
        "info(df)"
      ]
    },
    {
      "cell_type": "markdown",
      "metadata": {
        "id": "BOu21zUWOVho"
      },
      "source": [
        "# Modelling"
      ]
    },
    {
      "cell_type": "code",
      "execution_count": 35,
      "metadata": {
        "id": "c0DMxyNcU4c1"
      },
      "outputs": [],
      "source": [
        "X = df.drop('Stop Resolution', axis=1)\n",
        "y = df['Stop Resolution']"
      ]
    },
    {
      "cell_type": "markdown",
      "metadata": {
        "id": "Kquuo-OKU_yh"
      },
      "source": [
        "The target variable and the features are separated."
      ]
    },
    {
      "cell_type": "markdown",
      "metadata": {
        "id": "RrekNgcVUY5u"
      },
      "source": [
        "## Splitting the data\n",
        "\n",
        "Split into train and test data.\n",
        "- This will be done twice so that the final model can be evaluated on data that has not been touched at all.\n",
        "- `X_train_second`, `X_test_second`, `y_train_second` and `y_train_second` will be used for the initial models."
      ]
    },
    {
      "cell_type": "code",
      "execution_count": 36,
      "metadata": {
        "id": "xKREs03uVJck",
        "outputId": "f2cd68db-20e7-4ba4-92db-4f19ad040a46",
        "colab": {
          "base_uri": "https://localhost:8080/"
        }
      },
      "outputs": [
        {
          "output_type": "execute_result",
          "data": {
            "text/plain": [
              "(1466859, 14)"
            ]
          },
          "metadata": {},
          "execution_count": 36
        }
      ],
      "source": [
        "df.shape"
      ]
    },
    {
      "cell_type": "code",
      "execution_count": 37,
      "metadata": {
        "id": "IGW-ewb6T6wi"
      },
      "outputs": [],
      "source": [
        "# first split\n",
        "X_train_first, X_test_first, y_train_first, y_test_first = train_test_split(X, y, test_size=0.1, random_state=33)"
      ]
    },
    {
      "cell_type": "code",
      "execution_count": 38,
      "metadata": {
        "id": "soCdXuWWVJcl",
        "outputId": "867c3101-e44b-4ebb-d113-90210ee486e6",
        "colab": {
          "base_uri": "https://localhost:8080/"
        }
      },
      "outputs": [
        {
          "output_type": "stream",
          "name": "stdout",
          "text": [
            "Shape of X_train: (1320173, 13)\n",
            "=========================================\n",
            "Shape of y_train: (1320173,)\n"
          ]
        }
      ],
      "source": [
        "print(f'Shape of X_train: {X_train_first.shape}')\n",
        "print('=========================================')\n",
        "print(f'Shape of y_train: {y_train_first.shape}')"
      ]
    },
    {
      "cell_type": "code",
      "execution_count": 39,
      "metadata": {
        "id": "isk3U2v-VJcl"
      },
      "outputs": [],
      "source": [
        "# second split\n",
        "X_train_second, X_test_second, y_train_second, y_test_second = train_test_split(X_train_first, y_train_first, test_size=0.1, random_state=33)"
      ]
    },
    {
      "cell_type": "code",
      "execution_count": 40,
      "metadata": {
        "id": "W3YT87ViVJcl",
        "outputId": "495f0cd9-f437-4873-e4c6-90371bd7f411",
        "colab": {
          "base_uri": "https://localhost:8080/"
        }
      },
      "outputs": [
        {
          "output_type": "stream",
          "name": "stdout",
          "text": [
            "Shape of X_train: (1188155, 13)\n",
            "=========================================\n",
            "Shape of y_train: (1188155,)\n"
          ]
        }
      ],
      "source": [
        "print(f'Shape of X_train: {X_train_second.shape}')\n",
        "print('=========================================')\n",
        "print(f'Shape of y_train: {y_train_second.shape}')"
      ]
    },
    {
      "cell_type": "markdown",
      "metadata": {
        "id": "XwbcaI3jYxZi"
      },
      "source": [
        "## Feature Encoding"
      ]
    },
    {
      "cell_type": "code",
      "execution_count": 41,
      "metadata": {
        "id": "XCTzQ0gDYruD"
      },
      "outputs": [],
      "source": [
        "# using OneHotEncoder to transform the columns\n",
        "ohe = OneHotEncoder(handle_unknown='ignore', sparse=False)\n",
        "X_train_ohe = ohe.fit_transform(X_train_second)\n",
        "X_test_ohe = ohe.transform(X_test_second)"
      ]
    },
    {
      "cell_type": "markdown",
      "metadata": {
        "id": "dHkshvoJVJcr"
      },
      "source": [
        "# First Model - Logistic Regression\n",
        "- This will be a baseline model."
      ]
    },
    {
      "cell_type": "code",
      "execution_count": 42,
      "metadata": {
        "id": "KodL7u-IVJcs"
      },
      "outputs": [],
      "source": [
        "# instantiating and fitting\n",
        "logreg = LogisticRegression(random_state=42)\n",
        "\n",
        "first_model = logreg.fit(X_train_ohe, y_train_second)"
      ]
    },
    {
      "cell_type": "code",
      "execution_count": 43,
      "metadata": {
        "id": "gfpiZJjeVJcs"
      },
      "outputs": [],
      "source": [
        "# generating predictions\n",
        "y_hat_train1 = logreg.predict(X_train_ohe)\n",
        "y_hat_test1 = logreg.predict(X_test_ohe)"
      ]
    },
    {
      "cell_type": "code",
      "execution_count": 44,
      "metadata": {
        "id": "112zRZ77VJcs",
        "outputId": "58ba7dfa-aa4c-4937-e763-03bf561d5e10",
        "colab": {
          "base_uri": "https://localhost:8080/"
        }
      },
      "outputs": [
        {
          "output_type": "stream",
          "name": "stdout",
          "text": [
            "F1 score for training data: 0.9439992794950108\n",
            "+-+-+-+-+-+-+-+-+-+-+-+-+-+-+-+-+-+-+-+-+-+-+\n",
            "F1 score for testing data: 0.944134045041889\n",
            "+-+-+-+-+-+-+-+-+-+-+-+-+-+-+-+-+-+-+-+-+-+-+\n",
            "Recall score for training data: 0.9453603010323116\n",
            "+-+-+-+-+-+-+-+-+-+-+-+-+-+-+-+-+-+-+-+-+-+-+\n",
            "Recall score for testing data: 0.9450936106983655\n",
            "+-+-+-+-+-+-+-+-+-+-+-+-+-+-+-+-+-+-+-+-+-+-+\n",
            "Precision score for training data: 0.9426421712098588\n",
            "+-+-+-+-+-+-+-+-+-+-+-+-+-+-+-+-+-+-+-+-+-+-+\n",
            "Precision score for testing data: 0.9431764259276834\n"
          ]
        }
      ],
      "source": [
        "# checking scores\n",
        "calc_scores(y_train_second, y_hat_train1, y_test_second, y_hat_test1)"
      ]
    },
    {
      "cell_type": "code",
      "source": [
        "plot_cm(y_train_second, y_hat_train1, y_test_second, y_hat_test1)"
      ],
      "metadata": {
        "colab": {
          "base_uri": "https://localhost:8080/",
          "height": 499
        },
        "id": "znEfiOWhhIwE",
        "outputId": "745a0261-5e59-455f-d608-d50d7e1ba5df"
      },
      "execution_count": 45,
      "outputs": [
        {
          "output_type": "display_data",
          "data": {
            "text/plain": [
              "<Figure size 1200x600 with 4 Axes>"
            ],
            "image/png": "[encoded data removed]"
          },
          "metadata": {}
        }
      ]
    },
    {
      "cell_type": "code",
      "execution_count": 46,
      "metadata": {
        "id": "gfsKiKZPVJcu",
        "outputId": "c51e877a-6bdb-430c-b30b-2ad37320c41d",
        "colab": {
          "base_uri": "https://localhost:8080/",
          "height": 733
        }
      },
      "outputs": [
        {
          "output_type": "display_data",
          "data": {
            "text/plain": [
              "<Figure size 1000x800 with 1 Axes>"
            ],
            "image/png": "[encoded data removed]"
          },
          "metadata": {}
        },
        {
          "output_type": "stream",
          "name": "stdout",
          "text": [
            "AUC: 0.9577063886439028\n"
          ]
        }
      ],
      "source": [
        "# plotting a ROC curve\n",
        "plot_roc(X_train_ohe, y_train_second, X_test_ohe, y_test_second, logreg)"
      ]
    },
    {
      "cell_type": "markdown",
      "metadata": {
        "id": "MwcHpOn5VJcu"
      },
      "source": [
        "### Review\n",
        "\n",
        "For a baseline model, this are great scores. The `F1 Score` of `0.94` shows the average between recall and precision.<br>\n",
        "We can further see the `recall score` and `precision score` are `0.94`. <br>\n",
        "Due to the nature of our target, the `recall score` will be the best score to consider.<br>\n",
        "\n",
        "The confusion matrix shows that the model correctly predicts `165188` as `Arrest` and `90000` as `Not arrest`.<br>\n",
        "Although there are still some few that it predicts wrong\n",
        "\n",
        "The `AUC` of `0.9577063886439028` indicates a high level of performance for the model.\n",
        "This means that the model quality of prediction is great across all thresholds and performs well in classifying the target variable.\n",
        "\n",
        "\n"
      ]
    },
    {
      "cell_type": "markdown",
      "metadata": {
        "id": "Ol-dVHaoVJcu"
      },
      "source": [
        "# Second Model - Decision Tree\n",
        "Given the scores the first model produced, the second model should hopefully improve on that"
      ]
    },
    {
      "cell_type": "code",
      "execution_count": 56,
      "metadata": {
        "id": "yHG---nOVJcu"
      },
      "outputs": [],
      "source": [
        "# instantiating and fitting\n",
        "dt = DecisionTreeClassifier()\n",
        "second_model = dt.fit(X_train_ohe, y_train_second)\n"
      ]
    },
    {
      "cell_type": "code",
      "execution_count": 57,
      "metadata": {
        "id": "Nc1hZXbuVJcv"
      },
      "outputs": [],
      "source": [
        "y_hat_train2 = dt.predict(X_train_ohe)\n",
        "y_hat_test2 = dt.predict(X_test_ohe)\n"
      ]
    },
    {
      "cell_type": "code",
      "execution_count": 58,
      "metadata": {
        "id": "GUPj1OxeVJcv",
        "outputId": "5ecb0cc9-f09c-418f-8fcf-07d3bdaa7b96",
        "colab": {
          "base_uri": "https://localhost:8080/"
        }
      },
      "outputs": [
        {
          "output_type": "stream",
          "name": "stdout",
          "text": [
            "F1 score for training data: 0.9907828444522889\n",
            "+-+-+-+-+-+-+-+-+-+-+-+-+-+-+-+-+-+-+-+-+-+-+\n",
            "F1 score for testing data: 0.9900753417733562\n",
            "+-+-+-+-+-+-+-+-+-+-+-+-+-+-+-+-+-+-+-+-+-+-+\n",
            "Recall score for training data: 0.9902591588974705\n",
            "+-+-+-+-+-+-+-+-+-+-+-+-+-+-+-+-+-+-+-+-+-+-+\n",
            "Recall score for testing data: 0.9895869242199109\n",
            "+-+-+-+-+-+-+-+-+-+-+-+-+-+-+-+-+-+-+-+-+-+-+\n",
            "Precision score for training data: 0.9913070841886391\n",
            "+-+-+-+-+-+-+-+-+-+-+-+-+-+-+-+-+-+-+-+-+-+-+\n",
            "Precision score for testing data: 0.9905642416886795\n"
          ]
        }
      ],
      "source": [
        "calc_scores(y_train_second, y_hat_train2, y_test_second, y_hat_test2)"
      ]
    },
    {
      "cell_type": "code",
      "execution_count": 59,
      "metadata": {
        "id": "T_lRhDGIVJcw",
        "colab": {
          "base_uri": "https://localhost:8080/",
          "height": 499
        },
        "outputId": "cfd7a915-2186-4a7f-c76e-21891ea14722"
      },
      "outputs": [
        {
          "output_type": "display_data",
          "data": {
            "text/plain": [
              "<Figure size 1200x600 with 4 Axes>"
            ],
            "image/png": "[encoded data removed]"
          },
          "metadata": {}
        }
      ],
      "source": [
        "plot_cm(y_train_second, y_hat_train2, y_test_second, y_hat_test2)\n"
      ]
    },
    {
      "cell_type": "code",
      "source": [
        "plot_roc(X_train_ohe, y_hat_train2, X_test_ohe, y_hat_test2, dt)"
      ],
      "metadata": {
        "colab": {
          "base_uri": "https://localhost:8080/",
          "height": 733
        },
        "id": "lrA5umdto3u9",
        "outputId": "440ba7d1-d7f7-479c-b48c-f2af79102846"
      },
      "execution_count": 60,
      "outputs": [
        {
          "output_type": "display_data",
          "data": {
            "text/plain": [
              "<Figure size 1000x800 with 1 Axes>"
            ],
            "image/png": "[encoded data removed]"
          },
          "metadata": {}
        },
        {
          "output_type": "stream",
          "name": "stdout",
          "text": [
            "AUC: 1.0\n"
          ]
        }
      ]
    },
    {
      "cell_type": "markdown",
      "source": [
        "### Review\n",
        "The metrics from the second model suggest an even better performance.<br>\n",
        "\n",
        "The AUC is suggesting that the model can distinguish between the `arrest` and `not arrest` cases.<br>\n",
        "\n",
        "The F1 score also supports the model's performance across both training and testing sets.<br>\n",
        "\n",
        "For recall score, it shows that the model correctly predicted abou 98 percent of the target correctly.<br>\n",
        "\n",
        "Put together, this metrics suggest that the model is having very good performance with high accuracy. The model can be investigated if it's overfitting or it is actually performing well."
      ],
      "metadata": {
        "id": "hqBRHg4DoWAM"
      }
    },
    {
      "cell_type": "markdown",
      "source": [
        "# Third Model - KNN"
      ],
      "metadata": {
        "id": "iTxmt4CayY97"
      }
    },
    {
      "cell_type": "code",
      "source": [
        "knn = KNeighborsClassifier()\n",
        "third_model = knn.fit(X_train_ohe, y_train_second)"
      ],
      "metadata": {
        "id": "gLnpUstvvQAm"
      },
      "execution_count": 66,
      "outputs": []
    },
    {
      "cell_type": "code",
      "source": [
        "y_hat_train3 = knn.predict(X_train_ohe)\n",
        "y_hat_test3 = knn.predict(X_test_ohe)"
      ],
      "metadata": {
        "id": "Fgw8dN4z0DsR"
      },
      "execution_count": null,
      "outputs": []
    },
    {
      "cell_type": "code",
      "source": [],
      "metadata": {
        "id": "STRfwTOx00BG"
      },
      "execution_count": null,
      "outputs": []
    }
  ],
  "metadata": {
    "colab": {
      "gpuType": "T4",
      "provenance": []
    },
    "gpuClass": "standard",
    "kernelspec": {
      "display_name": "Python (learn-env)",
      "language": "python",
      "name": "learn-env"
    },
    "language_info": {
      "codemirror_mode": {
        "name": "ipython",
        "version": 3
      },
      "file_extension": ".py",
      "mimetype": "text/x-python",
      "name": "python",
      "nbconvert_exporter": "python",
      "pygments_lexer": "ipython3",
      "version": "3.8.5"
    }
  },
  "nbformat": 4,
  "nbformat_minor": 0
}